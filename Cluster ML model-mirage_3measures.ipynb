{
 "cells": [
  {
   "cell_type": "code",
   "execution_count": 4,
   "metadata": {},
   "outputs": [],
   "source": [
    "from google.oauth2.service_account import Credentials\n",
    "import pandas as pd"
   ]
  },
  {
   "cell_type": "code",
   "execution_count": 22,
   "metadata": {},
   "outputs": [],
   "source": [
    "project_id = 'energytransition-final-project'\n",
    "dataset_id = 'energycharts'\n",
    "table_id = f'{dataset_id}.energy_districts_table_fixed'\n",
    "path = '/Users/mirage/Downloads/energytransition-final-project-8e815779515d.json'\n",
    "credentials = Credentials.from_service_account_file(path)\n",
    "query = (f'SELECT * FROM {table_id}')\n",
    "\n",
    "df= pd.read_gbq(query=query,project_id=project_id,credentials=credentials)"
   ]
  },
  {
   "cell_type": "code",
   "execution_count": 23,
   "metadata": {},
   "outputs": [
    {
     "data": {
      "text/html": [
       "<div>\n",
       "<style scoped>\n",
       "    .dataframe tbody tr th:only-of-type {\n",
       "        vertical-align: middle;\n",
       "    }\n",
       "\n",
       "    .dataframe tbody tr th {\n",
       "        vertical-align: top;\n",
       "    }\n",
       "\n",
       "    .dataframe thead th {\n",
       "        text-align: right;\n",
       "    }\n",
       "</style>\n",
       "<table border=\"1\" class=\"dataframe\">\n",
       "  <thead>\n",
       "    <tr style=\"text-align: right;\">\n",
       "      <th></th>\n",
       "      <th>district</th>\n",
       "      <th>state</th>\n",
       "      <th>population</th>\n",
       "      <th>pop_density</th>\n",
       "      <th>area_size</th>\n",
       "      <th>total_ren_cap</th>\n",
       "      <th>solar_cap</th>\n",
       "      <th>solar_users</th>\n",
       "      <th>wind_cap</th>\n",
       "      <th>lat</th>\n",
       "      <th>...</th>\n",
       "      <th>sunshine_minutes_yest</th>\n",
       "      <th>wind_speed_yest</th>\n",
       "      <th>daytime_minutes</th>\n",
       "      <th>cloud_minutes</th>\n",
       "      <th>sunshine_minutes</th>\n",
       "      <th>wind_speed</th>\n",
       "      <th>consumption_per_capita_in_kWh</th>\n",
       "      <th>Total_Area_Kreis_km2</th>\n",
       "      <th>AreaKreis_minus_PotWind_km2</th>\n",
       "      <th>PotWind_area_km2</th>\n",
       "    </tr>\n",
       "  </thead>\n",
       "  <tbody>\n",
       "    <tr>\n",
       "      <th>0</th>\n",
       "      <td>St. Wendel</td>\n",
       "      <td>Saarland</td>\n",
       "      <td>86170</td>\n",
       "      <td>181</td>\n",
       "      <td>476.48</td>\n",
       "      <td>356697.0</td>\n",
       "      <td>153493.94</td>\n",
       "      <td>5277</td>\n",
       "      <td>191150.6</td>\n",
       "      <td>49.522319</td>\n",
       "      <td>...</td>\n",
       "      <td>NaN</td>\n",
       "      <td>NaN</td>\n",
       "      <td>NaN</td>\n",
       "      <td>NaN</td>\n",
       "      <td>NaN</td>\n",
       "      <td>NaN</td>\n",
       "      <td>1430.0</td>\n",
       "      <td>NaN</td>\n",
       "      <td>NaN</td>\n",
       "      <td>NaN</td>\n",
       "    </tr>\n",
       "    <tr>\n",
       "      <th>1</th>\n",
       "      <td>Neunkirchen</td>\n",
       "      <td>Saarland</td>\n",
       "      <td>130847</td>\n",
       "      <td>524</td>\n",
       "      <td>249.80</td>\n",
       "      <td>175548.0</td>\n",
       "      <td>91900.32</td>\n",
       "      <td>5801</td>\n",
       "      <td>74960.0</td>\n",
       "      <td>49.408735</td>\n",
       "      <td>...</td>\n",
       "      <td>NaN</td>\n",
       "      <td>NaN</td>\n",
       "      <td>NaN</td>\n",
       "      <td>NaN</td>\n",
       "      <td>NaN</td>\n",
       "      <td>NaN</td>\n",
       "      <td>1365.0</td>\n",
       "      <td>NaN</td>\n",
       "      <td>NaN</td>\n",
       "      <td>NaN</td>\n",
       "    </tr>\n",
       "    <tr>\n",
       "      <th>2</th>\n",
       "      <td>Saarpfalz-Kreis</td>\n",
       "      <td>Saarland</td>\n",
       "      <td>140960</td>\n",
       "      <td>337</td>\n",
       "      <td>418.28</td>\n",
       "      <td>167052.0</td>\n",
       "      <td>108640.05</td>\n",
       "      <td>7158</td>\n",
       "      <td>16000.6</td>\n",
       "      <td>49.371796</td>\n",
       "      <td>...</td>\n",
       "      <td>NaN</td>\n",
       "      <td>NaN</td>\n",
       "      <td>NaN</td>\n",
       "      <td>NaN</td>\n",
       "      <td>NaN</td>\n",
       "      <td>NaN</td>\n",
       "      <td>1450.0</td>\n",
       "      <td>420.9412</td>\n",
       "      <td>388.5499</td>\n",
       "      <td>32.39130</td>\n",
       "    </tr>\n",
       "    <tr>\n",
       "      <th>3</th>\n",
       "      <td>Saarlouis</td>\n",
       "      <td>Saarland</td>\n",
       "      <td>193661</td>\n",
       "      <td>422</td>\n",
       "      <td>459.35</td>\n",
       "      <td>222588.0</td>\n",
       "      <td>139358.14</td>\n",
       "      <td>10103</td>\n",
       "      <td>51560.0</td>\n",
       "      <td>49.384231</td>\n",
       "      <td>...</td>\n",
       "      <td>NaN</td>\n",
       "      <td>NaN</td>\n",
       "      <td>NaN</td>\n",
       "      <td>NaN</td>\n",
       "      <td>NaN</td>\n",
       "      <td>NaN</td>\n",
       "      <td>1455.0</td>\n",
       "      <td>460.3033</td>\n",
       "      <td>431.4732</td>\n",
       "      <td>28.83014</td>\n",
       "    </tr>\n",
       "    <tr>\n",
       "      <th>4</th>\n",
       "      <td>Saarbrücken</td>\n",
       "      <td>Saarland</td>\n",
       "      <td>327284</td>\n",
       "      <td>796</td>\n",
       "      <td>410.95</td>\n",
       "      <td>261208.0</td>\n",
       "      <td>166463.80</td>\n",
       "      <td>9182</td>\n",
       "      <td>27760.0</td>\n",
       "      <td>49.322948</td>\n",
       "      <td>...</td>\n",
       "      <td>NaN</td>\n",
       "      <td>NaN</td>\n",
       "      <td>NaN</td>\n",
       "      <td>NaN</td>\n",
       "      <td>NaN</td>\n",
       "      <td>NaN</td>\n",
       "      <td>1350.0</td>\n",
       "      <td>NaN</td>\n",
       "      <td>NaN</td>\n",
       "      <td>NaN</td>\n",
       "    </tr>\n",
       "    <tr>\n",
       "      <th>...</th>\n",
       "      <td>...</td>\n",
       "      <td>...</td>\n",
       "      <td>...</td>\n",
       "      <td>...</td>\n",
       "      <td>...</td>\n",
       "      <td>...</td>\n",
       "      <td>...</td>\n",
       "      <td>...</td>\n",
       "      <td>...</td>\n",
       "      <td>...</td>\n",
       "      <td>...</td>\n",
       "      <td>...</td>\n",
       "      <td>...</td>\n",
       "      <td>...</td>\n",
       "      <td>...</td>\n",
       "      <td>...</td>\n",
       "      <td>...</td>\n",
       "      <td>...</td>\n",
       "      <td>...</td>\n",
       "      <td>...</td>\n",
       "      <td>...</td>\n",
       "    </tr>\n",
       "    <tr>\n",
       "      <th>381</th>\n",
       "      <td>Bad Tölz-Wolfratshausen</td>\n",
       "      <td>Bayern</td>\n",
       "      <td>127919</td>\n",
       "      <td>116</td>\n",
       "      <td>1102.66</td>\n",
       "      <td>261257.0</td>\n",
       "      <td>92241.92</td>\n",
       "      <td>7106</td>\n",
       "      <td>9.9</td>\n",
       "      <td>47.747974</td>\n",
       "      <td>...</td>\n",
       "      <td>42.0</td>\n",
       "      <td>2.51</td>\n",
       "      <td>699.0</td>\n",
       "      <td>657.0</td>\n",
       "      <td>42.0</td>\n",
       "      <td>1.63</td>\n",
       "      <td>1210.0</td>\n",
       "      <td>1119.1040</td>\n",
       "      <td>1016.0830</td>\n",
       "      <td>103.02050</td>\n",
       "    </tr>\n",
       "    <tr>\n",
       "      <th>382</th>\n",
       "      <td>Miesbach</td>\n",
       "      <td>Bayern</td>\n",
       "      <td>99978</td>\n",
       "      <td>115</td>\n",
       "      <td>866.21</td>\n",
       "      <td>155575.0</td>\n",
       "      <td>71241.86</td>\n",
       "      <td>5900</td>\n",
       "      <td>7.5</td>\n",
       "      <td>47.673215</td>\n",
       "      <td>...</td>\n",
       "      <td>55.0</td>\n",
       "      <td>2.51</td>\n",
       "      <td>699.0</td>\n",
       "      <td>699.0</td>\n",
       "      <td>0.0</td>\n",
       "      <td>1.43</td>\n",
       "      <td>1275.0</td>\n",
       "      <td>858.6886</td>\n",
       "      <td>805.1397</td>\n",
       "      <td>53.54889</td>\n",
       "    </tr>\n",
       "    <tr>\n",
       "      <th>383</th>\n",
       "      <td>Waldshut</td>\n",
       "      <td>Baden-Württemberg</td>\n",
       "      <td>171249</td>\n",
       "      <td>151</td>\n",
       "      <td>1131.17</td>\n",
       "      <td>2226566.0</td>\n",
       "      <td>189228.30</td>\n",
       "      <td>13353</td>\n",
       "      <td>20.3</td>\n",
       "      <td>47.574945</td>\n",
       "      <td>...</td>\n",
       "      <td>0.0</td>\n",
       "      <td>2.51</td>\n",
       "      <td>699.0</td>\n",
       "      <td>336.0</td>\n",
       "      <td>363.0</td>\n",
       "      <td>1.80</td>\n",
       "      <td>1280.0</td>\n",
       "      <td>1122.4360</td>\n",
       "      <td>1021.1590</td>\n",
       "      <td>101.27700</td>\n",
       "    </tr>\n",
       "    <tr>\n",
       "      <th>384</th>\n",
       "      <td>Bodenseekreis</td>\n",
       "      <td>Baden-Württemberg</td>\n",
       "      <td>218885</td>\n",
       "      <td>329</td>\n",
       "      <td>664.75</td>\n",
       "      <td>232756.0</td>\n",
       "      <td>196947.74</td>\n",
       "      <td>14055</td>\n",
       "      <td>0.0</td>\n",
       "      <td>47.676249</td>\n",
       "      <td>...</td>\n",
       "      <td>0.0</td>\n",
       "      <td>2.51</td>\n",
       "      <td>699.0</td>\n",
       "      <td>175.0</td>\n",
       "      <td>524.0</td>\n",
       "      <td>1.96</td>\n",
       "      <td>1205.0</td>\n",
       "      <td>669.0274</td>\n",
       "      <td>566.0668</td>\n",
       "      <td>102.96060</td>\n",
       "    </tr>\n",
       "    <tr>\n",
       "      <th>385</th>\n",
       "      <td>Lörrach</td>\n",
       "      <td>Baden-Württemberg</td>\n",
       "      <td>229445</td>\n",
       "      <td>284</td>\n",
       "      <td>806.67</td>\n",
       "      <td>316798.0</td>\n",
       "      <td>129317.81</td>\n",
       "      <td>11770</td>\n",
       "      <td>26901.8</td>\n",
       "      <td>47.718044</td>\n",
       "      <td>...</td>\n",
       "      <td>0.0</td>\n",
       "      <td>2.51</td>\n",
       "      <td>699.0</td>\n",
       "      <td>231.0</td>\n",
       "      <td>468.0</td>\n",
       "      <td>2.55</td>\n",
       "      <td>1215.0</td>\n",
       "      <td>810.3695</td>\n",
       "      <td>741.3500</td>\n",
       "      <td>69.01947</td>\n",
       "    </tr>\n",
       "  </tbody>\n",
       "</table>\n",
       "<p>386 rows × 23 columns</p>\n",
       "</div>"
      ],
      "text/plain": [
       "                    district              state  population  pop_density  \\\n",
       "0                 St. Wendel           Saarland       86170          181   \n",
       "1                Neunkirchen           Saarland      130847          524   \n",
       "2            Saarpfalz-Kreis           Saarland      140960          337   \n",
       "3                  Saarlouis           Saarland      193661          422   \n",
       "4                Saarbrücken           Saarland      327284          796   \n",
       "..                       ...                ...         ...          ...   \n",
       "381  Bad Tölz-Wolfratshausen             Bayern      127919          116   \n",
       "382                 Miesbach             Bayern       99978          115   \n",
       "383                 Waldshut  Baden-Württemberg      171249          151   \n",
       "384            Bodenseekreis  Baden-Württemberg      218885          329   \n",
       "385                  Lörrach  Baden-Württemberg      229445          284   \n",
       "\n",
       "     area_size  total_ren_cap  solar_cap  solar_users  wind_cap        lat  \\\n",
       "0       476.48       356697.0  153493.94         5277  191150.6  49.522319   \n",
       "1       249.80       175548.0   91900.32         5801   74960.0  49.408735   \n",
       "2       418.28       167052.0  108640.05         7158   16000.6  49.371796   \n",
       "3       459.35       222588.0  139358.14        10103   51560.0  49.384231   \n",
       "4       410.95       261208.0  166463.80         9182   27760.0  49.322948   \n",
       "..         ...            ...        ...          ...       ...        ...   \n",
       "381    1102.66       261257.0   92241.92         7106       9.9  47.747974   \n",
       "382     866.21       155575.0   71241.86         5900       7.5  47.673215   \n",
       "383    1131.17      2226566.0  189228.30        13353      20.3  47.574945   \n",
       "384     664.75       232756.0  196947.74        14055       0.0  47.676249   \n",
       "385     806.67       316798.0  129317.81        11770   26901.8  47.718044   \n",
       "\n",
       "     ...  sunshine_minutes_yest  wind_speed_yest  daytime_minutes  \\\n",
       "0    ...                    NaN              NaN              NaN   \n",
       "1    ...                    NaN              NaN              NaN   \n",
       "2    ...                    NaN              NaN              NaN   \n",
       "3    ...                    NaN              NaN              NaN   \n",
       "4    ...                    NaN              NaN              NaN   \n",
       "..   ...                    ...              ...              ...   \n",
       "381  ...                   42.0             2.51            699.0   \n",
       "382  ...                   55.0             2.51            699.0   \n",
       "383  ...                    0.0             2.51            699.0   \n",
       "384  ...                    0.0             2.51            699.0   \n",
       "385  ...                    0.0             2.51            699.0   \n",
       "\n",
       "     cloud_minutes  sunshine_minutes  wind_speed  \\\n",
       "0              NaN               NaN         NaN   \n",
       "1              NaN               NaN         NaN   \n",
       "2              NaN               NaN         NaN   \n",
       "3              NaN               NaN         NaN   \n",
       "4              NaN               NaN         NaN   \n",
       "..             ...               ...         ...   \n",
       "381          657.0              42.0        1.63   \n",
       "382          699.0               0.0        1.43   \n",
       "383          336.0             363.0        1.80   \n",
       "384          175.0             524.0        1.96   \n",
       "385          231.0             468.0        2.55   \n",
       "\n",
       "     consumption_per_capita_in_kWh  Total_Area_Kreis_km2  \\\n",
       "0                           1430.0                   NaN   \n",
       "1                           1365.0                   NaN   \n",
       "2                           1450.0              420.9412   \n",
       "3                           1455.0              460.3033   \n",
       "4                           1350.0                   NaN   \n",
       "..                             ...                   ...   \n",
       "381                         1210.0             1119.1040   \n",
       "382                         1275.0              858.6886   \n",
       "383                         1280.0             1122.4360   \n",
       "384                         1205.0              669.0274   \n",
       "385                         1215.0              810.3695   \n",
       "\n",
       "     AreaKreis_minus_PotWind_km2  PotWind_area_km2  \n",
       "0                            NaN               NaN  \n",
       "1                            NaN               NaN  \n",
       "2                       388.5499          32.39130  \n",
       "3                       431.4732          28.83014  \n",
       "4                            NaN               NaN  \n",
       "..                           ...               ...  \n",
       "381                    1016.0830         103.02050  \n",
       "382                     805.1397          53.54889  \n",
       "383                    1021.1590         101.27700  \n",
       "384                     566.0668         102.96060  \n",
       "385                     741.3500          69.01947  \n",
       "\n",
       "[386 rows x 23 columns]"
      ]
     },
     "execution_count": 23,
     "metadata": {},
     "output_type": "execute_result"
    }
   ],
   "source": [
    "df"
   ]
  },
  {
   "cell_type": "code",
   "execution_count": 24,
   "metadata": {},
   "outputs": [],
   "source": [
    "df_numeric = df.select_dtypes(include=[\"float\" , \"int\"])"
   ]
  },
  {
   "cell_type": "code",
   "execution_count": 126,
   "metadata": {},
   "outputs": [],
   "source": [
    "columns_to_keep = ['district' , 'state' ,'population', 'pop_density', 'area_size' ]\n",
    "df_keep_state =df.loc[: , columns_to_keep]"
   ]
  },
  {
   "cell_type": "code",
   "execution_count": 57,
   "metadata": {},
   "outputs": [
    {
     "data": {
      "text/html": [
       "<div>\n",
       "<style scoped>\n",
       "    .dataframe tbody tr th:only-of-type {\n",
       "        vertical-align: middle;\n",
       "    }\n",
       "\n",
       "    .dataframe tbody tr th {\n",
       "        vertical-align: top;\n",
       "    }\n",
       "\n",
       "    .dataframe thead th {\n",
       "        text-align: right;\n",
       "    }\n",
       "</style>\n",
       "<table border=\"1\" class=\"dataframe\">\n",
       "  <thead>\n",
       "    <tr style=\"text-align: right;\">\n",
       "      <th></th>\n",
       "      <th>district</th>\n",
       "      <th>state</th>\n",
       "      <th>population</th>\n",
       "      <th>pop_density</th>\n",
       "      <th>area_size</th>\n",
       "    </tr>\n",
       "  </thead>\n",
       "  <tbody>\n",
       "    <tr>\n",
       "      <th>0</th>\n",
       "      <td>St. Wendel</td>\n",
       "      <td>Saarland</td>\n",
       "      <td>86170</td>\n",
       "      <td>181</td>\n",
       "      <td>476.48</td>\n",
       "    </tr>\n",
       "    <tr>\n",
       "      <th>1</th>\n",
       "      <td>Neunkirchen</td>\n",
       "      <td>Saarland</td>\n",
       "      <td>130847</td>\n",
       "      <td>524</td>\n",
       "      <td>249.80</td>\n",
       "    </tr>\n",
       "    <tr>\n",
       "      <th>2</th>\n",
       "      <td>Saarpfalz-Kreis</td>\n",
       "      <td>Saarland</td>\n",
       "      <td>140960</td>\n",
       "      <td>337</td>\n",
       "      <td>418.28</td>\n",
       "    </tr>\n",
       "    <tr>\n",
       "      <th>3</th>\n",
       "      <td>Saarlouis</td>\n",
       "      <td>Saarland</td>\n",
       "      <td>193661</td>\n",
       "      <td>422</td>\n",
       "      <td>459.35</td>\n",
       "    </tr>\n",
       "    <tr>\n",
       "      <th>4</th>\n",
       "      <td>Saarbrücken</td>\n",
       "      <td>Saarland</td>\n",
       "      <td>327284</td>\n",
       "      <td>796</td>\n",
       "      <td>410.95</td>\n",
       "    </tr>\n",
       "    <tr>\n",
       "      <th>...</th>\n",
       "      <td>...</td>\n",
       "      <td>...</td>\n",
       "      <td>...</td>\n",
       "      <td>...</td>\n",
       "      <td>...</td>\n",
       "    </tr>\n",
       "    <tr>\n",
       "      <th>381</th>\n",
       "      <td>Bad Tölz-Wolfratshausen</td>\n",
       "      <td>Bayern</td>\n",
       "      <td>127919</td>\n",
       "      <td>116</td>\n",
       "      <td>1102.66</td>\n",
       "    </tr>\n",
       "    <tr>\n",
       "      <th>382</th>\n",
       "      <td>Miesbach</td>\n",
       "      <td>Bayern</td>\n",
       "      <td>99978</td>\n",
       "      <td>115</td>\n",
       "      <td>866.21</td>\n",
       "    </tr>\n",
       "    <tr>\n",
       "      <th>383</th>\n",
       "      <td>Waldshut</td>\n",
       "      <td>Baden-Württemberg</td>\n",
       "      <td>171249</td>\n",
       "      <td>151</td>\n",
       "      <td>1131.17</td>\n",
       "    </tr>\n",
       "    <tr>\n",
       "      <th>384</th>\n",
       "      <td>Bodenseekreis</td>\n",
       "      <td>Baden-Württemberg</td>\n",
       "      <td>218885</td>\n",
       "      <td>329</td>\n",
       "      <td>664.75</td>\n",
       "    </tr>\n",
       "    <tr>\n",
       "      <th>385</th>\n",
       "      <td>Lörrach</td>\n",
       "      <td>Baden-Württemberg</td>\n",
       "      <td>229445</td>\n",
       "      <td>284</td>\n",
       "      <td>806.67</td>\n",
       "    </tr>\n",
       "  </tbody>\n",
       "</table>\n",
       "<p>386 rows × 5 columns</p>\n",
       "</div>"
      ],
      "text/plain": [
       "                    district              state  population  pop_density  \\\n",
       "0                 St. Wendel           Saarland       86170          181   \n",
       "1                Neunkirchen           Saarland      130847          524   \n",
       "2            Saarpfalz-Kreis           Saarland      140960          337   \n",
       "3                  Saarlouis           Saarland      193661          422   \n",
       "4                Saarbrücken           Saarland      327284          796   \n",
       "..                       ...                ...         ...          ...   \n",
       "381  Bad Tölz-Wolfratshausen             Bayern      127919          116   \n",
       "382                 Miesbach             Bayern       99978          115   \n",
       "383                 Waldshut  Baden-Württemberg      171249          151   \n",
       "384            Bodenseekreis  Baden-Württemberg      218885          329   \n",
       "385                  Lörrach  Baden-Württemberg      229445          284   \n",
       "\n",
       "     area_size  \n",
       "0       476.48  \n",
       "1       249.80  \n",
       "2       418.28  \n",
       "3       459.35  \n",
       "4       410.95  \n",
       "..         ...  \n",
       "381    1102.66  \n",
       "382     866.21  \n",
       "383    1131.17  \n",
       "384     664.75  \n",
       "385     806.67  \n",
       "\n",
       "[386 rows x 5 columns]"
      ]
     },
     "execution_count": 57,
     "metadata": {},
     "output_type": "execute_result"
    }
   ],
   "source": [
    "df_keep_state"
   ]
  },
  {
   "cell_type": "code",
   "execution_count": 129,
   "metadata": {},
   "outputs": [],
   "source": [
    "columns_to_keep = [ 'state' ,'population', 'pop_density', 'area_size' ]\n",
    "df_keep =df.loc[: , columns_to_keep]"
   ]
  },
  {
   "cell_type": "code",
   "execution_count": 130,
   "metadata": {},
   "outputs": [
    {
     "data": {
      "text/html": [
       "<div>\n",
       "<style scoped>\n",
       "    .dataframe tbody tr th:only-of-type {\n",
       "        vertical-align: middle;\n",
       "    }\n",
       "\n",
       "    .dataframe tbody tr th {\n",
       "        vertical-align: top;\n",
       "    }\n",
       "\n",
       "    .dataframe thead th {\n",
       "        text-align: right;\n",
       "    }\n",
       "</style>\n",
       "<table border=\"1\" class=\"dataframe\">\n",
       "  <thead>\n",
       "    <tr style=\"text-align: right;\">\n",
       "      <th></th>\n",
       "      <th>state</th>\n",
       "      <th>population</th>\n",
       "      <th>pop_density</th>\n",
       "      <th>area_size</th>\n",
       "    </tr>\n",
       "  </thead>\n",
       "  <tbody>\n",
       "    <tr>\n",
       "      <th>0</th>\n",
       "      <td>Saarland</td>\n",
       "      <td>86170</td>\n",
       "      <td>181</td>\n",
       "      <td>476.48</td>\n",
       "    </tr>\n",
       "    <tr>\n",
       "      <th>1</th>\n",
       "      <td>Saarland</td>\n",
       "      <td>130847</td>\n",
       "      <td>524</td>\n",
       "      <td>249.80</td>\n",
       "    </tr>\n",
       "    <tr>\n",
       "      <th>2</th>\n",
       "      <td>Saarland</td>\n",
       "      <td>140960</td>\n",
       "      <td>337</td>\n",
       "      <td>418.28</td>\n",
       "    </tr>\n",
       "    <tr>\n",
       "      <th>3</th>\n",
       "      <td>Saarland</td>\n",
       "      <td>193661</td>\n",
       "      <td>422</td>\n",
       "      <td>459.35</td>\n",
       "    </tr>\n",
       "    <tr>\n",
       "      <th>4</th>\n",
       "      <td>Saarland</td>\n",
       "      <td>327284</td>\n",
       "      <td>796</td>\n",
       "      <td>410.95</td>\n",
       "    </tr>\n",
       "    <tr>\n",
       "      <th>...</th>\n",
       "      <td>...</td>\n",
       "      <td>...</td>\n",
       "      <td>...</td>\n",
       "      <td>...</td>\n",
       "    </tr>\n",
       "    <tr>\n",
       "      <th>381</th>\n",
       "      <td>Bayern</td>\n",
       "      <td>127919</td>\n",
       "      <td>116</td>\n",
       "      <td>1102.66</td>\n",
       "    </tr>\n",
       "    <tr>\n",
       "      <th>382</th>\n",
       "      <td>Bayern</td>\n",
       "      <td>99978</td>\n",
       "      <td>115</td>\n",
       "      <td>866.21</td>\n",
       "    </tr>\n",
       "    <tr>\n",
       "      <th>383</th>\n",
       "      <td>Baden-Württemberg</td>\n",
       "      <td>171249</td>\n",
       "      <td>151</td>\n",
       "      <td>1131.17</td>\n",
       "    </tr>\n",
       "    <tr>\n",
       "      <th>384</th>\n",
       "      <td>Baden-Württemberg</td>\n",
       "      <td>218885</td>\n",
       "      <td>329</td>\n",
       "      <td>664.75</td>\n",
       "    </tr>\n",
       "    <tr>\n",
       "      <th>385</th>\n",
       "      <td>Baden-Württemberg</td>\n",
       "      <td>229445</td>\n",
       "      <td>284</td>\n",
       "      <td>806.67</td>\n",
       "    </tr>\n",
       "  </tbody>\n",
       "</table>\n",
       "<p>386 rows × 4 columns</p>\n",
       "</div>"
      ],
      "text/plain": [
       "                 state  population  pop_density  area_size\n",
       "0             Saarland       86170          181     476.48\n",
       "1             Saarland      130847          524     249.80\n",
       "2             Saarland      140960          337     418.28\n",
       "3             Saarland      193661          422     459.35\n",
       "4             Saarland      327284          796     410.95\n",
       "..                 ...         ...          ...        ...\n",
       "381             Bayern      127919          116    1102.66\n",
       "382             Bayern       99978          115     866.21\n",
       "383  Baden-Württemberg      171249          151    1131.17\n",
       "384  Baden-Württemberg      218885          329     664.75\n",
       "385  Baden-Württemberg      229445          284     806.67\n",
       "\n",
       "[386 rows x 4 columns]"
      ]
     },
     "execution_count": 130,
     "metadata": {},
     "output_type": "execute_result"
    }
   ],
   "source": [
    "df_keep"
   ]
  },
  {
   "cell_type": "code",
   "execution_count": 28,
   "metadata": {},
   "outputs": [],
   "source": [
    "import matplotlib.pyplot as plt\n",
    "import seaborn as sns\n",
    "import numpy as np"
   ]
  },
  {
   "cell_type": "code",
   "execution_count": 131,
   "metadata": {},
   "outputs": [],
   "source": [
    "from sklearn.preprocessing import OneHotEncoder"
   ]
  },
  {
   "cell_type": "code",
   "execution_count": 132,
   "metadata": {},
   "outputs": [
    {
     "data": {
      "text/plain": [
       "<386x16 sparse matrix of type '<class 'numpy.float64'>'\n",
       "\twith 386 stored elements in Compressed Sparse Row format>"
      ]
     },
     "execution_count": 132,
     "metadata": {},
     "output_type": "execute_result"
    }
   ],
   "source": [
    "encoder = OneHotEncoder()\n",
    "encoder.fit(df_keep[['state']])\n",
    "encoder.transform(df_keep[['state']])"
   ]
  },
  {
   "cell_type": "code",
   "execution_count": 142,
   "metadata": {},
   "outputs": [
    {
     "data": {
      "text/html": [
       "<div>\n",
       "<style scoped>\n",
       "    .dataframe tbody tr th:only-of-type {\n",
       "        vertical-align: middle;\n",
       "    }\n",
       "\n",
       "    .dataframe tbody tr th {\n",
       "        vertical-align: top;\n",
       "    }\n",
       "\n",
       "    .dataframe thead th {\n",
       "        text-align: right;\n",
       "    }\n",
       "</style>\n",
       "<table border=\"1\" class=\"dataframe\">\n",
       "  <thead>\n",
       "    <tr style=\"text-align: right;\">\n",
       "      <th></th>\n",
       "      <th>state</th>\n",
       "      <th>population</th>\n",
       "      <th>pop_density</th>\n",
       "      <th>area_size</th>\n",
       "    </tr>\n",
       "  </thead>\n",
       "  <tbody>\n",
       "    <tr>\n",
       "      <th>0</th>\n",
       "      <td>Baden-Württemberg</td>\n",
       "      <td>11124642</td>\n",
       "      <td>24146</td>\n",
       "      <td>35673.23</td>\n",
       "    </tr>\n",
       "    <tr>\n",
       "      <th>1</th>\n",
       "      <td>Bayern</td>\n",
       "      <td>13176989</td>\n",
       "      <td>28713</td>\n",
       "      <td>68368.54</td>\n",
       "    </tr>\n",
       "    <tr>\n",
       "      <th>2</th>\n",
       "      <td>Berlin</td>\n",
       "      <td>3677472</td>\n",
       "      <td>4127</td>\n",
       "      <td>891.12</td>\n",
       "    </tr>\n",
       "    <tr>\n",
       "      <th>3</th>\n",
       "      <td>Brandenburg</td>\n",
       "      <td>2537868</td>\n",
       "      <td>3344</td>\n",
       "      <td>29654.40</td>\n",
       "    </tr>\n",
       "    <tr>\n",
       "      <th>4</th>\n",
       "      <td>Bremen</td>\n",
       "      <td>676463</td>\n",
       "      <td>2887</td>\n",
       "      <td>419.37</td>\n",
       "    </tr>\n",
       "    <tr>\n",
       "      <th>5</th>\n",
       "      <td>Hamburg</td>\n",
       "      <td>1853935</td>\n",
       "      <td>2455</td>\n",
       "      <td>755.09</td>\n",
       "    </tr>\n",
       "    <tr>\n",
       "      <th>6</th>\n",
       "      <td>Hessen</td>\n",
       "      <td>6295017</td>\n",
       "      <td>17386</td>\n",
       "      <td>20788.70</td>\n",
       "    </tr>\n",
       "    <tr>\n",
       "      <th>7</th>\n",
       "      <td>Mecklenburg-Vorpommern</td>\n",
       "      <td>1611160</td>\n",
       "      <td>2241</td>\n",
       "      <td>23293.82</td>\n",
       "    </tr>\n",
       "    <tr>\n",
       "      <th>8</th>\n",
       "      <td>Niedersachsen</td>\n",
       "      <td>8027031</td>\n",
       "      <td>13514</td>\n",
       "      <td>46582.60</td>\n",
       "    </tr>\n",
       "    <tr>\n",
       "      <th>9</th>\n",
       "      <td>Nordrhein-Westfalen</td>\n",
       "      <td>17924591</td>\n",
       "      <td>56764</td>\n",
       "      <td>34112.49</td>\n",
       "    </tr>\n",
       "    <tr>\n",
       "      <th>10</th>\n",
       "      <td>Rheinland-Pfalz</td>\n",
       "      <td>4106485</td>\n",
       "      <td>16805</td>\n",
       "      <td>19851.69</td>\n",
       "    </tr>\n",
       "    <tr>\n",
       "      <th>11</th>\n",
       "      <td>Saarland</td>\n",
       "      <td>982348</td>\n",
       "      <td>2446</td>\n",
       "      <td>2570.49</td>\n",
       "    </tr>\n",
       "    <tr>\n",
       "      <th>12</th>\n",
       "      <td>Sachsen</td>\n",
       "      <td>4043002</td>\n",
       "      <td>6424</td>\n",
       "      <td>18450.00</td>\n",
       "    </tr>\n",
       "    <tr>\n",
       "      <th>13</th>\n",
       "      <td>Sachsen-Anhalt</td>\n",
       "      <td>2169253</td>\n",
       "      <td>4211</td>\n",
       "      <td>20464.10</td>\n",
       "    </tr>\n",
       "    <tr>\n",
       "      <th>14</th>\n",
       "      <td>Schleswig-Holstein</td>\n",
       "      <td>2922005</td>\n",
       "      <td>7754</td>\n",
       "      <td>15804.33</td>\n",
       "    </tr>\n",
       "    <tr>\n",
       "      <th>15</th>\n",
       "      <td>Thüringen</td>\n",
       "      <td>2105480</td>\n",
       "      <td>5178</td>\n",
       "      <td>16148.79</td>\n",
       "    </tr>\n",
       "  </tbody>\n",
       "</table>\n",
       "</div>"
      ],
      "text/plain": [
       "                     state  population  pop_density  area_size\n",
       "0        Baden-Württemberg    11124642        24146   35673.23\n",
       "1                   Bayern    13176989        28713   68368.54\n",
       "2                   Berlin     3677472         4127     891.12\n",
       "3              Brandenburg     2537868         3344   29654.40\n",
       "4                   Bremen      676463         2887     419.37\n",
       "5                  Hamburg     1853935         2455     755.09\n",
       "6                   Hessen     6295017        17386   20788.70\n",
       "7   Mecklenburg-Vorpommern     1611160         2241   23293.82\n",
       "8            Niedersachsen     8027031        13514   46582.60\n",
       "9      Nordrhein-Westfalen    17924591        56764   34112.49\n",
       "10         Rheinland-Pfalz     4106485        16805   19851.69\n",
       "11                Saarland      982348         2446    2570.49\n",
       "12                 Sachsen     4043002         6424   18450.00\n",
       "13          Sachsen-Anhalt     2169253         4211   20464.10\n",
       "14      Schleswig-Holstein     2922005         7754   15804.33\n",
       "15               Thüringen     2105480         5178   16148.79"
      ]
     },
     "execution_count": 142,
     "metadata": {},
     "output_type": "execute_result"
    }
   ],
   "source": [
    "grouped_df = df_keep.groupby(\"state\" , as_index=False)[[\"population\", \"pop_density\", \"area_size\"]].sum()\n",
    "grouped_df"
   ]
  },
  {
   "cell_type": "code",
   "execution_count": 146,
   "metadata": {},
   "outputs": [],
   "source": [
    "encoder = OneHotEncoder()\n",
    "\n",
    "# Fit and transform the encoder on the \"state\" column\n",
    "encoded_data = encoder.fit_transform(grouped_df[['state']])\n",
    "\n",
    "# Convert the encoded data to an array or DataFrame\n",
    "encoded_data_array = encoded_data.toarray()\n",
    "\n",
    "# Optionally, convert the array to a DataFrame\n",
    "df_enc = pd.DataFrame(encoded_data_array, columns=encoder.get_feature_names_out(['state']))\n"
   ]
  },
  {
   "cell_type": "code",
   "execution_count": 147,
   "metadata": {},
   "outputs": [
    {
     "data": {
      "text/html": [
       "<div>\n",
       "<style scoped>\n",
       "    .dataframe tbody tr th:only-of-type {\n",
       "        vertical-align: middle;\n",
       "    }\n",
       "\n",
       "    .dataframe tbody tr th {\n",
       "        vertical-align: top;\n",
       "    }\n",
       "\n",
       "    .dataframe thead th {\n",
       "        text-align: right;\n",
       "    }\n",
       "</style>\n",
       "<table border=\"1\" class=\"dataframe\">\n",
       "  <thead>\n",
       "    <tr style=\"text-align: right;\">\n",
       "      <th></th>\n",
       "      <th>state_Baden-Württemberg</th>\n",
       "      <th>state_Bayern</th>\n",
       "      <th>state_Berlin</th>\n",
       "      <th>state_Brandenburg</th>\n",
       "      <th>state_Bremen</th>\n",
       "      <th>state_Hamburg</th>\n",
       "      <th>state_Hessen</th>\n",
       "      <th>state_Mecklenburg-Vorpommern</th>\n",
       "      <th>state_Niedersachsen</th>\n",
       "      <th>state_Nordrhein-Westfalen</th>\n",
       "      <th>state_Rheinland-Pfalz</th>\n",
       "      <th>state_Saarland</th>\n",
       "      <th>state_Sachsen</th>\n",
       "      <th>state_Sachsen-Anhalt</th>\n",
       "      <th>state_Schleswig-Holstein</th>\n",
       "      <th>state_Thüringen</th>\n",
       "    </tr>\n",
       "  </thead>\n",
       "  <tbody>\n",
       "    <tr>\n",
       "      <th>0</th>\n",
       "      <td>1.0</td>\n",
       "      <td>0.0</td>\n",
       "      <td>0.0</td>\n",
       "      <td>0.0</td>\n",
       "      <td>0.0</td>\n",
       "      <td>0.0</td>\n",
       "      <td>0.0</td>\n",
       "      <td>0.0</td>\n",
       "      <td>0.0</td>\n",
       "      <td>0.0</td>\n",
       "      <td>0.0</td>\n",
       "      <td>0.0</td>\n",
       "      <td>0.0</td>\n",
       "      <td>0.0</td>\n",
       "      <td>0.0</td>\n",
       "      <td>0.0</td>\n",
       "    </tr>\n",
       "    <tr>\n",
       "      <th>1</th>\n",
       "      <td>0.0</td>\n",
       "      <td>1.0</td>\n",
       "      <td>0.0</td>\n",
       "      <td>0.0</td>\n",
       "      <td>0.0</td>\n",
       "      <td>0.0</td>\n",
       "      <td>0.0</td>\n",
       "      <td>0.0</td>\n",
       "      <td>0.0</td>\n",
       "      <td>0.0</td>\n",
       "      <td>0.0</td>\n",
       "      <td>0.0</td>\n",
       "      <td>0.0</td>\n",
       "      <td>0.0</td>\n",
       "      <td>0.0</td>\n",
       "      <td>0.0</td>\n",
       "    </tr>\n",
       "    <tr>\n",
       "      <th>2</th>\n",
       "      <td>0.0</td>\n",
       "      <td>0.0</td>\n",
       "      <td>1.0</td>\n",
       "      <td>0.0</td>\n",
       "      <td>0.0</td>\n",
       "      <td>0.0</td>\n",
       "      <td>0.0</td>\n",
       "      <td>0.0</td>\n",
       "      <td>0.0</td>\n",
       "      <td>0.0</td>\n",
       "      <td>0.0</td>\n",
       "      <td>0.0</td>\n",
       "      <td>0.0</td>\n",
       "      <td>0.0</td>\n",
       "      <td>0.0</td>\n",
       "      <td>0.0</td>\n",
       "    </tr>\n",
       "    <tr>\n",
       "      <th>3</th>\n",
       "      <td>0.0</td>\n",
       "      <td>0.0</td>\n",
       "      <td>0.0</td>\n",
       "      <td>1.0</td>\n",
       "      <td>0.0</td>\n",
       "      <td>0.0</td>\n",
       "      <td>0.0</td>\n",
       "      <td>0.0</td>\n",
       "      <td>0.0</td>\n",
       "      <td>0.0</td>\n",
       "      <td>0.0</td>\n",
       "      <td>0.0</td>\n",
       "      <td>0.0</td>\n",
       "      <td>0.0</td>\n",
       "      <td>0.0</td>\n",
       "      <td>0.0</td>\n",
       "    </tr>\n",
       "    <tr>\n",
       "      <th>4</th>\n",
       "      <td>0.0</td>\n",
       "      <td>0.0</td>\n",
       "      <td>0.0</td>\n",
       "      <td>0.0</td>\n",
       "      <td>1.0</td>\n",
       "      <td>0.0</td>\n",
       "      <td>0.0</td>\n",
       "      <td>0.0</td>\n",
       "      <td>0.0</td>\n",
       "      <td>0.0</td>\n",
       "      <td>0.0</td>\n",
       "      <td>0.0</td>\n",
       "      <td>0.0</td>\n",
       "      <td>0.0</td>\n",
       "      <td>0.0</td>\n",
       "      <td>0.0</td>\n",
       "    </tr>\n",
       "    <tr>\n",
       "      <th>5</th>\n",
       "      <td>0.0</td>\n",
       "      <td>0.0</td>\n",
       "      <td>0.0</td>\n",
       "      <td>0.0</td>\n",
       "      <td>0.0</td>\n",
       "      <td>1.0</td>\n",
       "      <td>0.0</td>\n",
       "      <td>0.0</td>\n",
       "      <td>0.0</td>\n",
       "      <td>0.0</td>\n",
       "      <td>0.0</td>\n",
       "      <td>0.0</td>\n",
       "      <td>0.0</td>\n",
       "      <td>0.0</td>\n",
       "      <td>0.0</td>\n",
       "      <td>0.0</td>\n",
       "    </tr>\n",
       "    <tr>\n",
       "      <th>6</th>\n",
       "      <td>0.0</td>\n",
       "      <td>0.0</td>\n",
       "      <td>0.0</td>\n",
       "      <td>0.0</td>\n",
       "      <td>0.0</td>\n",
       "      <td>0.0</td>\n",
       "      <td>1.0</td>\n",
       "      <td>0.0</td>\n",
       "      <td>0.0</td>\n",
       "      <td>0.0</td>\n",
       "      <td>0.0</td>\n",
       "      <td>0.0</td>\n",
       "      <td>0.0</td>\n",
       "      <td>0.0</td>\n",
       "      <td>0.0</td>\n",
       "      <td>0.0</td>\n",
       "    </tr>\n",
       "    <tr>\n",
       "      <th>7</th>\n",
       "      <td>0.0</td>\n",
       "      <td>0.0</td>\n",
       "      <td>0.0</td>\n",
       "      <td>0.0</td>\n",
       "      <td>0.0</td>\n",
       "      <td>0.0</td>\n",
       "      <td>0.0</td>\n",
       "      <td>1.0</td>\n",
       "      <td>0.0</td>\n",
       "      <td>0.0</td>\n",
       "      <td>0.0</td>\n",
       "      <td>0.0</td>\n",
       "      <td>0.0</td>\n",
       "      <td>0.0</td>\n",
       "      <td>0.0</td>\n",
       "      <td>0.0</td>\n",
       "    </tr>\n",
       "    <tr>\n",
       "      <th>8</th>\n",
       "      <td>0.0</td>\n",
       "      <td>0.0</td>\n",
       "      <td>0.0</td>\n",
       "      <td>0.0</td>\n",
       "      <td>0.0</td>\n",
       "      <td>0.0</td>\n",
       "      <td>0.0</td>\n",
       "      <td>0.0</td>\n",
       "      <td>1.0</td>\n",
       "      <td>0.0</td>\n",
       "      <td>0.0</td>\n",
       "      <td>0.0</td>\n",
       "      <td>0.0</td>\n",
       "      <td>0.0</td>\n",
       "      <td>0.0</td>\n",
       "      <td>0.0</td>\n",
       "    </tr>\n",
       "    <tr>\n",
       "      <th>9</th>\n",
       "      <td>0.0</td>\n",
       "      <td>0.0</td>\n",
       "      <td>0.0</td>\n",
       "      <td>0.0</td>\n",
       "      <td>0.0</td>\n",
       "      <td>0.0</td>\n",
       "      <td>0.0</td>\n",
       "      <td>0.0</td>\n",
       "      <td>0.0</td>\n",
       "      <td>1.0</td>\n",
       "      <td>0.0</td>\n",
       "      <td>0.0</td>\n",
       "      <td>0.0</td>\n",
       "      <td>0.0</td>\n",
       "      <td>0.0</td>\n",
       "      <td>0.0</td>\n",
       "    </tr>\n",
       "    <tr>\n",
       "      <th>10</th>\n",
       "      <td>0.0</td>\n",
       "      <td>0.0</td>\n",
       "      <td>0.0</td>\n",
       "      <td>0.0</td>\n",
       "      <td>0.0</td>\n",
       "      <td>0.0</td>\n",
       "      <td>0.0</td>\n",
       "      <td>0.0</td>\n",
       "      <td>0.0</td>\n",
       "      <td>0.0</td>\n",
       "      <td>1.0</td>\n",
       "      <td>0.0</td>\n",
       "      <td>0.0</td>\n",
       "      <td>0.0</td>\n",
       "      <td>0.0</td>\n",
       "      <td>0.0</td>\n",
       "    </tr>\n",
       "    <tr>\n",
       "      <th>11</th>\n",
       "      <td>0.0</td>\n",
       "      <td>0.0</td>\n",
       "      <td>0.0</td>\n",
       "      <td>0.0</td>\n",
       "      <td>0.0</td>\n",
       "      <td>0.0</td>\n",
       "      <td>0.0</td>\n",
       "      <td>0.0</td>\n",
       "      <td>0.0</td>\n",
       "      <td>0.0</td>\n",
       "      <td>0.0</td>\n",
       "      <td>1.0</td>\n",
       "      <td>0.0</td>\n",
       "      <td>0.0</td>\n",
       "      <td>0.0</td>\n",
       "      <td>0.0</td>\n",
       "    </tr>\n",
       "    <tr>\n",
       "      <th>12</th>\n",
       "      <td>0.0</td>\n",
       "      <td>0.0</td>\n",
       "      <td>0.0</td>\n",
       "      <td>0.0</td>\n",
       "      <td>0.0</td>\n",
       "      <td>0.0</td>\n",
       "      <td>0.0</td>\n",
       "      <td>0.0</td>\n",
       "      <td>0.0</td>\n",
       "      <td>0.0</td>\n",
       "      <td>0.0</td>\n",
       "      <td>0.0</td>\n",
       "      <td>1.0</td>\n",
       "      <td>0.0</td>\n",
       "      <td>0.0</td>\n",
       "      <td>0.0</td>\n",
       "    </tr>\n",
       "    <tr>\n",
       "      <th>13</th>\n",
       "      <td>0.0</td>\n",
       "      <td>0.0</td>\n",
       "      <td>0.0</td>\n",
       "      <td>0.0</td>\n",
       "      <td>0.0</td>\n",
       "      <td>0.0</td>\n",
       "      <td>0.0</td>\n",
       "      <td>0.0</td>\n",
       "      <td>0.0</td>\n",
       "      <td>0.0</td>\n",
       "      <td>0.0</td>\n",
       "      <td>0.0</td>\n",
       "      <td>0.0</td>\n",
       "      <td>1.0</td>\n",
       "      <td>0.0</td>\n",
       "      <td>0.0</td>\n",
       "    </tr>\n",
       "    <tr>\n",
       "      <th>14</th>\n",
       "      <td>0.0</td>\n",
       "      <td>0.0</td>\n",
       "      <td>0.0</td>\n",
       "      <td>0.0</td>\n",
       "      <td>0.0</td>\n",
       "      <td>0.0</td>\n",
       "      <td>0.0</td>\n",
       "      <td>0.0</td>\n",
       "      <td>0.0</td>\n",
       "      <td>0.0</td>\n",
       "      <td>0.0</td>\n",
       "      <td>0.0</td>\n",
       "      <td>0.0</td>\n",
       "      <td>0.0</td>\n",
       "      <td>1.0</td>\n",
       "      <td>0.0</td>\n",
       "    </tr>\n",
       "    <tr>\n",
       "      <th>15</th>\n",
       "      <td>0.0</td>\n",
       "      <td>0.0</td>\n",
       "      <td>0.0</td>\n",
       "      <td>0.0</td>\n",
       "      <td>0.0</td>\n",
       "      <td>0.0</td>\n",
       "      <td>0.0</td>\n",
       "      <td>0.0</td>\n",
       "      <td>0.0</td>\n",
       "      <td>0.0</td>\n",
       "      <td>0.0</td>\n",
       "      <td>0.0</td>\n",
       "      <td>0.0</td>\n",
       "      <td>0.0</td>\n",
       "      <td>0.0</td>\n",
       "      <td>1.0</td>\n",
       "    </tr>\n",
       "  </tbody>\n",
       "</table>\n",
       "</div>"
      ],
      "text/plain": [
       "    state_Baden-Württemberg  state_Bayern  state_Berlin  state_Brandenburg  \\\n",
       "0                       1.0           0.0           0.0                0.0   \n",
       "1                       0.0           1.0           0.0                0.0   \n",
       "2                       0.0           0.0           1.0                0.0   \n",
       "3                       0.0           0.0           0.0                1.0   \n",
       "4                       0.0           0.0           0.0                0.0   \n",
       "5                       0.0           0.0           0.0                0.0   \n",
       "6                       0.0           0.0           0.0                0.0   \n",
       "7                       0.0           0.0           0.0                0.0   \n",
       "8                       0.0           0.0           0.0                0.0   \n",
       "9                       0.0           0.0           0.0                0.0   \n",
       "10                      0.0           0.0           0.0                0.0   \n",
       "11                      0.0           0.0           0.0                0.0   \n",
       "12                      0.0           0.0           0.0                0.0   \n",
       "13                      0.0           0.0           0.0                0.0   \n",
       "14                      0.0           0.0           0.0                0.0   \n",
       "15                      0.0           0.0           0.0                0.0   \n",
       "\n",
       "    state_Bremen  state_Hamburg  state_Hessen  state_Mecklenburg-Vorpommern  \\\n",
       "0            0.0            0.0           0.0                           0.0   \n",
       "1            0.0            0.0           0.0                           0.0   \n",
       "2            0.0            0.0           0.0                           0.0   \n",
       "3            0.0            0.0           0.0                           0.0   \n",
       "4            1.0            0.0           0.0                           0.0   \n",
       "5            0.0            1.0           0.0                           0.0   \n",
       "6            0.0            0.0           1.0                           0.0   \n",
       "7            0.0            0.0           0.0                           1.0   \n",
       "8            0.0            0.0           0.0                           0.0   \n",
       "9            0.0            0.0           0.0                           0.0   \n",
       "10           0.0            0.0           0.0                           0.0   \n",
       "11           0.0            0.0           0.0                           0.0   \n",
       "12           0.0            0.0           0.0                           0.0   \n",
       "13           0.0            0.0           0.0                           0.0   \n",
       "14           0.0            0.0           0.0                           0.0   \n",
       "15           0.0            0.0           0.0                           0.0   \n",
       "\n",
       "    state_Niedersachsen  state_Nordrhein-Westfalen  state_Rheinland-Pfalz  \\\n",
       "0                   0.0                        0.0                    0.0   \n",
       "1                   0.0                        0.0                    0.0   \n",
       "2                   0.0                        0.0                    0.0   \n",
       "3                   0.0                        0.0                    0.0   \n",
       "4                   0.0                        0.0                    0.0   \n",
       "5                   0.0                        0.0                    0.0   \n",
       "6                   0.0                        0.0                    0.0   \n",
       "7                   0.0                        0.0                    0.0   \n",
       "8                   1.0                        0.0                    0.0   \n",
       "9                   0.0                        1.0                    0.0   \n",
       "10                  0.0                        0.0                    1.0   \n",
       "11                  0.0                        0.0                    0.0   \n",
       "12                  0.0                        0.0                    0.0   \n",
       "13                  0.0                        0.0                    0.0   \n",
       "14                  0.0                        0.0                    0.0   \n",
       "15                  0.0                        0.0                    0.0   \n",
       "\n",
       "    state_Saarland  state_Sachsen  state_Sachsen-Anhalt  \\\n",
       "0              0.0            0.0                   0.0   \n",
       "1              0.0            0.0                   0.0   \n",
       "2              0.0            0.0                   0.0   \n",
       "3              0.0            0.0                   0.0   \n",
       "4              0.0            0.0                   0.0   \n",
       "5              0.0            0.0                   0.0   \n",
       "6              0.0            0.0                   0.0   \n",
       "7              0.0            0.0                   0.0   \n",
       "8              0.0            0.0                   0.0   \n",
       "9              0.0            0.0                   0.0   \n",
       "10             0.0            0.0                   0.0   \n",
       "11             1.0            0.0                   0.0   \n",
       "12             0.0            1.0                   0.0   \n",
       "13             0.0            0.0                   1.0   \n",
       "14             0.0            0.0                   0.0   \n",
       "15             0.0            0.0                   0.0   \n",
       "\n",
       "    state_Schleswig-Holstein  state_Thüringen  \n",
       "0                        0.0              0.0  \n",
       "1                        0.0              0.0  \n",
       "2                        0.0              0.0  \n",
       "3                        0.0              0.0  \n",
       "4                        0.0              0.0  \n",
       "5                        0.0              0.0  \n",
       "6                        0.0              0.0  \n",
       "7                        0.0              0.0  \n",
       "8                        0.0              0.0  \n",
       "9                        0.0              0.0  \n",
       "10                       0.0              0.0  \n",
       "11                       0.0              0.0  \n",
       "12                       0.0              0.0  \n",
       "13                       0.0              0.0  \n",
       "14                       1.0              0.0  \n",
       "15                       0.0              1.0  "
      ]
     },
     "execution_count": 147,
     "metadata": {},
     "output_type": "execute_result"
    }
   ],
   "source": [
    "df_enc\n"
   ]
  },
  {
   "cell_type": "code",
   "execution_count": 36,
   "metadata": {},
   "outputs": [
    {
     "name": "stderr",
     "output_type": "stream",
     "text": [
      "/opt/anaconda3/lib/python3.11/site-packages/seaborn/_oldcore.py:1119: FutureWarning: use_inf_as_na option is deprecated and will be removed in a future version. Convert inf values to NaN before operating instead.\n",
      "  with pd.option_context('mode.use_inf_as_na', True):\n",
      "/opt/anaconda3/lib/python3.11/site-packages/seaborn/_oldcore.py:1119: FutureWarning: use_inf_as_na option is deprecated and will be removed in a future version. Convert inf values to NaN before operating instead.\n",
      "  with pd.option_context('mode.use_inf_as_na', True):\n",
      "/opt/anaconda3/lib/python3.11/site-packages/seaborn/_oldcore.py:1119: FutureWarning: use_inf_as_na option is deprecated and will be removed in a future version. Convert inf values to NaN before operating instead.\n",
      "  with pd.option_context('mode.use_inf_as_na', True):\n"
     ]
    },
    {
     "data": {
      "image/png": "[encoded data removed]",
      "text/plain": [
       "<Figure size 640x480 with 3 Axes>"
      ]
     },
     "metadata": {},
     "output_type": "display_data"
    }
   ],
   "source": [
    "fig, axs = plt.subplots(3)\n",
    "\n",
    "var_list = [\"population\", \"pop_density\", \"area_size\"]\n",
    "\n",
    "# Convert var_list to a numpy array before reshaping\n",
    "var_array = np.array(var_list)\n",
    "\n",
    "# Loop directly through the axs object and assign titles from the list\n",
    "for row_axes, row_titles in zip(axs, var_array.reshape(3)):\n",
    "    sns.histplot(x=df[row_titles], ax=row_axes)\n",
    "\n",
    "# Adjust layout to prevent overlap\n",
    "plt.tight_layout()\n",
    "\n",
    "# Show the plots\n",
    "plt.show()"
   ]
  },
  {
   "cell_type": "code",
   "execution_count": 38,
   "metadata": {},
   "outputs": [
    {
     "data": {
      "application/vnd.plotly.v1+json": {
       "config": {
        "plotlyServerURL": "https://plot.ly"
       },
       "data": [
        {
         "hovertemplate": "population=%{x}<br>pop_density=%{y}<br>area_size=%{z}<extra></extra>",
         "legendgroup": "",
         "marker": {
          "color": "#636efa",
          "opacity": 0.7,
          "symbol": "circle"
         },
         "mode": "markers",
         "name": "",
         "scene": "scene",
         "showlegend": false,
         "type": "scatter3d",
         "x": [
          86170,
          130847,
          140960,
          193661,
          327284,
          103426,
          167560,
          91113,
          203799,
          276053,
          202014,
          133969,
          129687,
          246243,
          217796,
          208400,
          225900,
          158449,
          199603,
          280400,
          130843,
          245406,
          318326,
          235451,
          113173,
          117336,
          57455,
          185129,
          206496,
          98971,
          190425,
          172421,
          115054,
          257548,
          88430,
          49523,
          75027,
          200819,
          211899,
          257525,
          95740,
          563290,
          75574,
          188835,
          98829,
          218839,
          121773,
          132091,
          165001,
          138507,
          173980,
          48472,
          126475,
          92894,
          77522,
          170389,
          165906,
          215795,
          197965,
          144805,
          179915,
          331397,
          142912,
          81986,
          109746,
          3677472,
          175834,
          219521,
          179245,
          172545,
          72461,
          56679,
          183154,
          91379,
          119224,
          158108,
          148963,
          248823,
          123949,
          177919,
          1157541,
          274773,
          103694,
          136960,
          138722,
          361550,
          165034,
          170106,
          236188,
          89118,
          185495,
          78731,
          209117,
          450176,
          317713,
          373582,
          250635,
          346151,
          311214,
          334002,
          69862,
          123341,
          139032,
          200406,
          237268,
          99714,
          1853935,
          258214,
          601866,
          239344,
          197529,
          296290,
          248273,
          81687,
          96187,
          101023,
          72964,
          100317,
          111955,
          107558,
          98359,
          134050,
          323661,
          131765,
          238061,
          182814,
          132317,
          176333,
          155900,
          216277,
          302298,
          278176,
          366104,
          221352,
          406793,
          271621,
          579432,
          484411,
          309380,
          322143,
          460433,
          612801,
          208752,
          298761,
          139994,
          586852,
          452496,
          393063,
          314676,
          179238,
          260126,
          158957,
          227050,
          619477,
          363441,
          170739,
          354572,
          188713,
          156621,
          111770,
          117311,
          261001,
          495152,
          180052,
          156513,
          555351,
          244009,
          110502,
          82513,
          87807,
          68717,
          213227,
          65138,
          258306,
          258615,
          133120,
          274342,
          163851,
          127499,
          223572,
          120163,
          253364,
          311661,
          105671,
          172759,
          246097,
          272874,
          221376,
          299329,
          243105,
          328695,
          309621,
          62089,
          91368,
          100969,
          105367,
          79030,
          36054,
          82103,
          56504,
          158900,
          133825,
          96102,
          123404,
          203831,
          129261,
          184390,
          128146,
          113638,
          556673,
          194701,
          600732,
          266771,
          471891,
          283429,
          1073096,
          331885,
          84284,
          103454,
          225446,
          71482,
          79376,
          169719,
          66741,
          66091,
          71328,
          177557,
          357466,
          131295,
          239276,
          759224,
          423465,
          276307,
          187229,
          237041,
          278950,
          215446,
          103767,
          61735,
          122724,
          100959,
          60882,
          217556,
          126105,
          128782,
          246346,
          139323,
          113292,
          101788,
          91980,
          171424,
          290467,
          116753,
          103277,
          94838,
          42472,
          71648,
          159631,
          271166,
          296900,
          96953,
          113194,
          131330,
          212420,
          83850,
          151167,
          159402,
          75569,
          69949,
          80849,
          110570,
          132956,
          127520,
          95523,
          248554,
          510632,
          41994,
          41146,
          348767,
          227941,
          149239,
          128444,
          136062,
          77176,
          155050,
          94819,
          106853,
          99292,
          50565,
          34091,
          48773,
          172145,
          129313,
          46919,
          111279,
          133206,
          40054,
          53491,
          427316,
          544679,
          347798,
          448487,
          306502,
          311831,
          159245,
          199398,
          125613,
          113318,
          143929,
          549030,
          79496,
          123899,
          133634,
          138016,
          235481,
          134986,
          47854,
          120521,
          102398,
          78632,
          315009,
          393195,
          626275,
          232296,
          55527,
          200237,
          125529,
          135538,
          98045,
          1487708,
          144562,
          155449,
          129772,
          98503,
          128436,
          218579,
          349837,
          136747,
          177330,
          147776,
          143236,
          181144,
          121466,
          44721,
          45118,
          554268,
          247183,
          97985,
          112116,
          117606,
          139622,
          178447,
          259046,
          199732,
          190545,
          142414,
          229806,
          131725,
          160686,
          231848,
          213385,
          132958,
          126949,
          140446,
          434535,
          119183,
          167945,
          203244,
          533388,
          288158,
          288097,
          287011,
          106389,
          136642,
          326875,
          265792,
          157202,
          69053,
          122252,
          88232,
          82330,
          127919,
          99978,
          171249,
          218885,
          229445
         ],
         "y": [
          181,
          524,
          337,
          422,
          796,
          186,
          80,
          1606,
          98,
          126,
          145,
          94,
          120,
          2075,
          63,
          1149,
          70,
          74,
          97,
          209,
          124,
          320,
          479,
          60,
          1115,
          38,
          87,
          139,
          163,
          162,
          149,
          159,
          176,
          206,
          107,
          441,
          700,
          159,
          44,
          47,
          734,
          1772,
          35,
          128,
          39,
          110,
          87,
          124,
          80,
          175,
          122,
          43,
          173,
          64,
          1241,
          1653,
          96,
          119,
          92,
          178,
          116,
          115,
          76,
          36,
          45,
          4127,
          77,
          85,
          79,
          82,
          315,
          383,
          973,
          148,
          168,
          234,
          187,
          1291,
          606,
          114,
          504,
          227,
          462,
          255,
          141,
          170,
          1378,
          72,
          1175,
          56,
          130,
          321,
          99,
          251,
          1048,
          263,
          556,
          278,
          270,
          1290,
          121,
          64,
          152,
          1877,
          214,
          102,
          2455,
          156,
          2021,
          165,
          97,
          124,
          118,
          114,
          107,
          105,
          70,
          53,
          68,
          88,
          594,
          226,
          218,
          121,
          1763,
          127,
          91,
          125,
          107,
          1010,
          228,
          211,
          378,
          199,
          383,
          296,
          2755,
          1190,
          248,
          786,
          442,
          805,
          2708,
          530,
          117,
          2091,
          785,
          724,
          255,
          792,
          2479,
          1775,
          1648,
          2849,
          2495,
          1870,
          2106,
          1176,
          3046,
          1500,
          1166,
          1531,
          2127,
          117,
          85,
          1691,
          148,
          963,
          101,
          154,
          85,
          790,
          771,
          411,
          132,
          187,
          242,
          2077,
          202,
          162,
          109,
          238,
          283,
          72,
          234,
          195,
          319,
          157,
          141,
          1100,
          180,
          326,
          66,
          600,
          100,
          131,
          69,
          255,
          102,
          123,
          116,
          143,
          114,
          99,
          206,
          201,
          294,
          163,
          1080,
          787,
          156,
          521,
          283,
          670,
          648,
          2650,
          2353,
          88,
          102,
          199,
          135,
          84,
          202,
          130,
          105,
          108,
          148,
          1003,
          2925,
          1075,
          3058,
          324,
          610,
          231,
          492,
          1368,
          263,
          105,
          89,
          157,
          62,
          67,
          2226,
          109,
          182,
          433,
          302,
          1472,
          80,
          134,
          255,
          290,
          182,
          82,
          69,
          602,
          66,
          1308,
          379,
          451,
          155,
          97,
          223,
          351,
          771,
          137,
          185,
          117,
          122,
          104,
          945,
          102,
          146,
          98,
          670,
          2739,
          838,
          1008,
          242,
          110,
          103,
          84,
          101,
          79,
          508,
          99,
          167,
          711,
          1184,
          483,
          1112,
          2223,
          279,
          566,
          174,
          224,
          653,
          457,
          498,
          793,
          316,
          413,
          1767,
          2151,
          1463,
          134,
          1258,
          146,
          128,
          517,
          1109,
          124,
          111,
          1035,
          167,
          108,
          708,
          140,
          85,
          95,
          208,
          636,
          3021,
          315,
          396,
          349,
          1281,
          174,
          112,
          4788,
          305,
          268,
          171,
          133,
          169,
          503,
          589,
          317,
          377,
          121,
          103,
          226,
          160,
          638,
          1127,
          456,
          155,
          124,
          197,
          147,
          160,
          123,
          403,
          147,
          208,
          194,
          443,
          109,
          202,
          1515,
          208,
          212,
          1070,
          183,
          235,
          137,
          247,
          144,
          832,
          280,
          352,
          176,
          131,
          141,
          223,
          193,
          104,
          1091,
          95,
          95,
          255,
          116,
          115,
          151,
          329,
          284
         ],
         "z": [
          476.48,
          249.8,
          418.28,
          459.35,
          410.95,
          555.63,
          2083.53,
          56.73,
          2071.33,
          2189.76,
          1393,
          1428.18,
          1083.57,
          118.65,
          3431.17,
          181.36,
          3215.72,
          2127.06,
          2058.95,
          1344.46,
          1055.7,
          766.24,
          664.27,
          3945.67,
          101.53,
          3077.02,
          656.84,
          1327.8,
          1267.4,
          609.53,
          1282.18,
          1085.4,
          652.67,
          1248.45,
          824.79,
          112.34,
          107.11,
          1263.06,
          4766.75,
          5495.57,
          130.52,
          317.84,
          2138.55,
          1479.6,
          2526.51,
          1991.02,
          1400.81,
          1064.83,
          2074.77,
          789.33,
          1420.35,
          1123.31,
          730.65,
          1462.6,
          62.45,
          103.09,
          1727.3,
          1808.19,
          2158.65,
          814.22,
          1550.82,
          2883.68,
          1881.47,
          2294.58,
          2424.23,
          891.12,
          2274.52,
          2592.05,
          2256.75,
          2104.19,
          229.72,
          147.85,
          188.24,
          616.56,
          711.39,
          675.67,
          797.53,
          192.7,
          204.62,
          1557.2,
          2297.15,
          1208.35,
          224.49,
          536.5,
          981.79,
          2121.79,
          119.8,
          2367.25,
          201.03,
          1578.2,
          1428.13,
          245,
          2104.93,
          1795.76,
          303.28,
          1420.96,
          450.39,
          1246.19,
          1152.42,
          258.83,
          576.84,
          1933.33,
          912.95,
          106.79,
          1110.83,
          974.52,
          755.09,
          1651.27,
          297.8,
          1454.6,
          2028.56,
          2395.62,
          2111.44,
          713.93,
          902.87,
          966.36,
          1037.89,
          1899.18,
          1656.99,
          1223.47,
          165.62,
          594.33,
          1487.54,
          1091.49,
          135.01,
          1434.21,
          1449.05,
          1414.07,
          1455.08,
          214.19,
          1328.63,
          1319.42,
          969.21,
          1112.03,
          1061.08,
          918.84,
          210.34,
          407.21,
          1246.78,
          409.63,
          1042.81,
          761.48,
          77.09,
          563.27,
          1201.42,
          280.71,
          576.44,
          543.21,
          1232.99,
          226.42,
          104.94,
          89.54,
          137.78,
          217.41,
          145.66,
          91.28,
          168.39,
          160.45,
          51.42,
          74.52,
          100.62,
          170.47,
          232.79,
          1539,
          1848.7,
          328.49,
          1654.21,
          114.77,
          815.26,
          569.39,
          806.88,
          269.91,
          84.48,
          627.92,
          1960.16,
          712.11,
          1132.89,
          78.87,
          632.68,
          1380.42,
          1097.75,
          1066.3,
          1100.69,
          1458.91,
          738.44,
          1262.37,
          854.56,
          1412.45,
          2116.83,
          221.03,
          1827.94,
          949.76,
          938.41,
          152.18,
          1008.77,
          805.11,
          1151.32,
          141.62,
          804.47,
          460.84,
          1371.15,
          936.07,
          845.94,
          1251.17,
          989.05,
          642.34,
          627.04,
          787.05,
          105.25,
          706.92,
          1248.72,
          1153.2,
          941.49,
          704.7,
          437.33,
          405.01,
          141.06,
          956.19,
          1014.26,
          1134.24,
          529.67,
          942.26,
          841.79,
          512.43,
          630.64,
          658.32,
          1202.5,
          356.23,
          44.88,
          222.52,
          248.31,
          1308.04,
          453.03,
          811.42,
          481.84,
          203.87,
          817.67,
          991.08,
          692.47,
          782.18,
          1626.92,
          911.65,
          97.73,
          1153.96,
          706.76,
          569.5,
          461.86,
          76.96,
          1264.7,
          684.16,
          671.37,
          1000.8,
          642.8,
          1253.05,
          1379.85,
          70.57,
          1084.24,
          122.07,
          714.61,
          658.61,
          623.99,
          1167.9,
          588.07,
          605.34,
          108.73,
          1102.22,
          863.89,
          645.42,
          573.59,
          776.83,
          117.06,
          1304.12,
          871.88,
          970.78,
          370.78,
          186.44,
          50.13,
          40.8,
          1440.57,
          2069.39,
          1451.74,
          1526.81,
          1343.94,
          974.77,
          305.01,
          953.6,
          639.97,
          139.7,
          42.71,
          70.64,
          43.88,
          77.43,
          463.32,
          82.94,
          639.95,
          594.62,
          61.35,
          117.09,
          858.09,
          686.77,
          1099.94,
          1084.97,
          173.42,
          144.97,
          108.83,
          1484.07,
          99.89,
          776.76,
          1125.95,
          1061.54,
          71.66,
          999.97,
          1208.41,
          133.35,
          1413.38,
          1253.56,
          67.59,
          861.14,
          1201.62,
          827.66,
          1511.38,
          617.78,
          207.33,
          738.44,
          140.19,
          573.61,
          97.99,
          780.23,
          877.57,
          310.7,
          473.76,
          579.15,
          761.04,
          739.73,
          759.16,
          434.82,
          594.24,
          430.83,
          470.95,
          1226.29,
          1394.44,
          799.83,
          756.96,
          70.11,
          40.02,
          1214.23,
          1599.63,
          792.23,
          569.29,
          798.22,
          870.73,
          1446.99,
          642.32,
          1358.53,
          917.56,
          734.37,
          519.11,
          1204.22,
          797.32,
          153.04,
          1025.34,
          627.12,
          118.68,
          769.43,
          1850.36,
          870.41,
          679.81,
          1409.49,
          641.28,
          1027.83,
          817.97,
          1632.08,
          810.25,
          966.27,
          1466.28,
          1378.33,
          1515.93,
          63.28,
          1281.21,
          928.7,
          323.38,
          1102.66,
          866.21,
          1131.17,
          664.75,
          806.67
         ]
        }
       ],
       "layout": {
        "height": 500,
        "legend": {
         "tracegroupgap": 0
        },
        "margin": {
         "t": 60
        },
        "scene": {
         "domain": {
          "x": [
           0,
           1
          ],
          "y": [
           0,
           1
          ]
         },
         "xaxis": {
          "title": {
           "text": "population"
          }
         },
         "yaxis": {
          "title": {
           "text": "pop_density"
          }
         },
         "zaxis": {
          "title": {
           "text": "area_size"
          }
         }
        },
        "template": {
         "data": {
          "bar": [
           {
            "error_x": {
             "color": "#2a3f5f"
            },
            "error_y": {
             "color": "#2a3f5f"
            },
            "marker": {
             "line": {
              "color": "#E5ECF6",
              "width": 0.5
             },
             "pattern": {
              "fillmode": "overlay",
              "size": 10,
              "solidity": 0.2
             }
            },
            "type": "bar"
           }
          ],
          "barpolar": [
           {
            "marker": {
             "line": {
              "color": "#E5ECF6",
              "width": 0.5
             },
             "pattern": {
              "fillmode": "overlay",
              "size": 10,
              "solidity": 0.2
             }
            },
            "type": "barpolar"
           }
          ],
          "carpet": [
           {
            "aaxis": {
             "endlinecolor": "#2a3f5f",
             "gridcolor": "white",
             "linecolor": "white",
             "minorgridcolor": "white",
             "startlinecolor": "#2a3f5f"
            },
            "baxis": {
             "endlinecolor": "#2a3f5f",
             "gridcolor": "white",
             "linecolor": "white",
             "minorgridcolor": "white",
             "startlinecolor": "#2a3f5f"
            },
            "type": "carpet"
           }
          ],
          "choropleth": [
           {
            "colorbar": {
             "outlinewidth": 0,
             "ticks": ""
            },
            "type": "choropleth"
           }
          ],
          "contour": [
           {
            "colorbar": {
             "outlinewidth": 0,
             "ticks": ""
            },
            "colorscale": [
             [
              0,
              "#0d0887"
             ],
             [
              0.1111111111111111,
              "#46039f"
             ],
             [
              0.2222222222222222,
              "#7201a8"
             ],
             [
              0.3333333333333333,
              "#9c179e"
             ],
             [
              0.4444444444444444,
              "#bd3786"
             ],
             [
              0.5555555555555556,
              "#d8576b"
             ],
             [
              0.6666666666666666,
              "#ed7953"
             ],
             [
              0.7777777777777778,
              "#fb9f3a"
             ],
             [
              0.8888888888888888,
              "#fdca26"
             ],
             [
              1,
              "#f0f921"
             ]
            ],
            "type": "contour"
           }
          ],
          "contourcarpet": [
           {
            "colorbar": {
             "outlinewidth": 0,
             "ticks": ""
            },
            "type": "contourcarpet"
           }
          ],
          "heatmap": [
           {
            "colorbar": {
             "outlinewidth": 0,
             "ticks": ""
            },
            "colorscale": [
             [
              0,
              "#0d0887"
             ],
             [
              0.1111111111111111,
              "#46039f"
             ],
             [
              0.2222222222222222,
              "#7201a8"
             ],
             [
              0.3333333333333333,
              "#9c179e"
             ],
             [
              0.4444444444444444,
              "#bd3786"
             ],
             [
              0.5555555555555556,
              "#d8576b"
             ],
             [
              0.6666666666666666,
              "#ed7953"
             ],
             [
              0.7777777777777778,
              "#fb9f3a"
             ],
             [
              0.8888888888888888,
              "#fdca26"
             ],
             [
              1,
              "#f0f921"
             ]
            ],
            "type": "heatmap"
           }
          ],
          "heatmapgl": [
           {
            "colorbar": {
             "outlinewidth": 0,
             "ticks": ""
            },
            "colorscale": [
             [
              0,
              "#0d0887"
             ],
             [
              0.1111111111111111,
              "#46039f"
             ],
             [
              0.2222222222222222,
              "#7201a8"
             ],
             [
              0.3333333333333333,
              "#9c179e"
             ],
             [
              0.4444444444444444,
              "#bd3786"
             ],
             [
              0.5555555555555556,
              "#d8576b"
             ],
             [
              0.6666666666666666,
              "#ed7953"
             ],
             [
              0.7777777777777778,
              "#fb9f3a"
             ],
             [
              0.8888888888888888,
              "#fdca26"
             ],
             [
              1,
              "#f0f921"
             ]
            ],
            "type": "heatmapgl"
           }
          ],
          "histogram": [
           {
            "marker": {
             "pattern": {
              "fillmode": "overlay",
              "size": 10,
              "solidity": 0.2
             }
            },
            "type": "histogram"
           }
          ],
          "histogram2d": [
           {
            "colorbar": {
             "outlinewidth": 0,
             "ticks": ""
            },
            "colorscale": [
             [
              0,
              "#0d0887"
             ],
             [
              0.1111111111111111,
              "#46039f"
             ],
             [
              0.2222222222222222,
              "#7201a8"
             ],
             [
              0.3333333333333333,
              "#9c179e"
             ],
             [
              0.4444444444444444,
              "#bd3786"
             ],
             [
              0.5555555555555556,
              "#d8576b"
             ],
             [
              0.6666666666666666,
              "#ed7953"
             ],
             [
              0.7777777777777778,
              "#fb9f3a"
             ],
             [
              0.8888888888888888,
              "#fdca26"
             ],
             [
              1,
              "#f0f921"
             ]
            ],
            "type": "histogram2d"
           }
          ],
          "histogram2dcontour": [
           {
            "colorbar": {
             "outlinewidth": 0,
             "ticks": ""
            },
            "colorscale": [
             [
              0,
              "#0d0887"
             ],
             [
              0.1111111111111111,
              "#46039f"
             ],
             [
              0.2222222222222222,
              "#7201a8"
             ],
             [
              0.3333333333333333,
              "#9c179e"
             ],
             [
              0.4444444444444444,
              "#bd3786"
             ],
             [
              0.5555555555555556,
              "#d8576b"
             ],
             [
              0.6666666666666666,
              "#ed7953"
             ],
             [
              0.7777777777777778,
              "#fb9f3a"
             ],
             [
              0.8888888888888888,
              "#fdca26"
             ],
             [
              1,
              "#f0f921"
             ]
            ],
            "type": "histogram2dcontour"
           }
          ],
          "mesh3d": [
           {
            "colorbar": {
             "outlinewidth": 0,
             "ticks": ""
            },
            "type": "mesh3d"
           }
          ],
          "parcoords": [
           {
            "line": {
             "colorbar": {
              "outlinewidth": 0,
              "ticks": ""
             }
            },
            "type": "parcoords"
           }
          ],
          "pie": [
           {
            "automargin": true,
            "type": "pie"
           }
          ],
          "scatter": [
           {
            "fillpattern": {
             "fillmode": "overlay",
             "size": 10,
             "solidity": 0.2
            },
            "type": "scatter"
           }
          ],
          "scatter3d": [
           {
            "line": {
             "colorbar": {
              "outlinewidth": 0,
              "ticks": ""
             }
            },
            "marker": {
             "colorbar": {
              "outlinewidth": 0,
              "ticks": ""
             }
            },
            "type": "scatter3d"
           }
          ],
          "scattercarpet": [
           {
            "marker": {
             "colorbar": {
              "outlinewidth": 0,
              "ticks": ""
             }
            },
            "type": "scattercarpet"
           }
          ],
          "scattergeo": [
           {
            "marker": {
             "colorbar": {
              "outlinewidth": 0,
              "ticks": ""
             }
            },
            "type": "scattergeo"
           }
          ],
          "scattergl": [
           {
            "marker": {
             "colorbar": {
              "outlinewidth": 0,
              "ticks": ""
             }
            },
            "type": "scattergl"
           }
          ],
          "scattermapbox": [
           {
            "marker": {
             "colorbar": {
              "outlinewidth": 0,
              "ticks": ""
             }
            },
            "type": "scattermapbox"
           }
          ],
          "scatterpolar": [
           {
            "marker": {
             "colorbar": {
              "outlinewidth": 0,
              "ticks": ""
             }
            },
            "type": "scatterpolar"
           }
          ],
          "scatterpolargl": [
           {
            "marker": {
             "colorbar": {
              "outlinewidth": 0,
              "ticks": ""
             }
            },
            "type": "scatterpolargl"
           }
          ],
          "scatterternary": [
           {
            "marker": {
             "colorbar": {
              "outlinewidth": 0,
              "ticks": ""
             }
            },
            "type": "scatterternary"
           }
          ],
          "surface": [
           {
            "colorbar": {
             "outlinewidth": 0,
             "ticks": ""
            },
            "colorscale": [
             [
              0,
              "#0d0887"
             ],
             [
              0.1111111111111111,
              "#46039f"
             ],
             [
              0.2222222222222222,
              "#7201a8"
             ],
             [
              0.3333333333333333,
              "#9c179e"
             ],
             [
              0.4444444444444444,
              "#bd3786"
             ],
             [
              0.5555555555555556,
              "#d8576b"
             ],
             [
              0.6666666666666666,
              "#ed7953"
             ],
             [
              0.7777777777777778,
              "#fb9f3a"
             ],
             [
              0.8888888888888888,
              "#fdca26"
             ],
             [
              1,
              "#f0f921"
             ]
            ],
            "type": "surface"
           }
          ],
          "table": [
           {
            "cells": {
             "fill": {
              "color": "#EBF0F8"
             },
             "line": {
              "color": "white"
             }
            },
            "header": {
             "fill": {
              "color": "#C8D4E3"
             },
             "line": {
              "color": "white"
             }
            },
            "type": "table"
           }
          ]
         },
         "layout": {
          "annotationdefaults": {
           "arrowcolor": "#2a3f5f",
           "arrowhead": 0,
           "arrowwidth": 1
          },
          "autotypenumbers": "strict",
          "coloraxis": {
           "colorbar": {
            "outlinewidth": 0,
            "ticks": ""
           }
          },
          "colorscale": {
           "diverging": [
            [
             0,
             "#8e0152"
            ],
            [
             0.1,
             "#c51b7d"
            ],
            [
             0.2,
             "#de77ae"
            ],
            [
             0.3,
             "#f1b6da"
            ],
            [
             0.4,
             "#fde0ef"
            ],
            [
             0.5,
             "#f7f7f7"
            ],
            [
             0.6,
             "#e6f5d0"
            ],
            [
             0.7,
             "#b8e186"
            ],
            [
             0.8,
             "#7fbc41"
            ],
            [
             0.9,
             "#4d9221"
            ],
            [
             1,
             "#276419"
            ]
           ],
           "sequential": [
            [
             0,
             "#0d0887"
            ],
            [
             0.1111111111111111,
             "#46039f"
            ],
            [
             0.2222222222222222,
             "#7201a8"
            ],
            [
             0.3333333333333333,
             "#9c179e"
            ],
            [
             0.4444444444444444,
             "#bd3786"
            ],
            [
             0.5555555555555556,
             "#d8576b"
            ],
            [
             0.6666666666666666,
             "#ed7953"
            ],
            [
             0.7777777777777778,
             "#fb9f3a"
            ],
            [
             0.8888888888888888,
             "#fdca26"
            ],
            [
             1,
             "#f0f921"
            ]
           ],
           "sequentialminus": [
            [
             0,
             "#0d0887"
            ],
            [
             0.1111111111111111,
             "#46039f"
            ],
            [
             0.2222222222222222,
             "#7201a8"
            ],
            [
             0.3333333333333333,
             "#9c179e"
            ],
            [
             0.4444444444444444,
             "#bd3786"
            ],
            [
             0.5555555555555556,
             "#d8576b"
            ],
            [
             0.6666666666666666,
             "#ed7953"
            ],
            [
             0.7777777777777778,
             "#fb9f3a"
            ],
            [
             0.8888888888888888,
             "#fdca26"
            ],
            [
             1,
             "#f0f921"
            ]
           ]
          },
          "colorway": [
           "#636efa",
           "#EF553B",
           "#00cc96",
           "#ab63fa",
           "#FFA15A",
           "#19d3f3",
           "#FF6692",
           "#B6E880",
           "#FF97FF",
           "#FECB52"
          ],
          "font": {
           "color": "#2a3f5f"
          },
          "geo": {
           "bgcolor": "white",
           "lakecolor": "white",
           "landcolor": "#E5ECF6",
           "showlakes": true,
           "showland": true,
           "subunitcolor": "white"
          },
          "hoverlabel": {
           "align": "left"
          },
          "hovermode": "closest",
          "mapbox": {
           "style": "light"
          },
          "paper_bgcolor": "white",
          "plot_bgcolor": "#E5ECF6",
          "polar": {
           "angularaxis": {
            "gridcolor": "white",
            "linecolor": "white",
            "ticks": ""
           },
           "bgcolor": "#E5ECF6",
           "radialaxis": {
            "gridcolor": "white",
            "linecolor": "white",
            "ticks": ""
           }
          },
          "scene": {
           "xaxis": {
            "backgroundcolor": "#E5ECF6",
            "gridcolor": "white",
            "gridwidth": 2,
            "linecolor": "white",
            "showbackground": true,
            "ticks": "",
            "zerolinecolor": "white"
           },
           "yaxis": {
            "backgroundcolor": "#E5ECF6",
            "gridcolor": "white",
            "gridwidth": 2,
            "linecolor": "white",
            "showbackground": true,
            "ticks": "",
            "zerolinecolor": "white"
           },
           "zaxis": {
            "backgroundcolor": "#E5ECF6",
            "gridcolor": "white",
            "gridwidth": 2,
            "linecolor": "white",
            "showbackground": true,
            "ticks": "",
            "zerolinecolor": "white"
           }
          },
          "shapedefaults": {
           "line": {
            "color": "#2a3f5f"
           }
          },
          "ternary": {
           "aaxis": {
            "gridcolor": "white",
            "linecolor": "white",
            "ticks": ""
           },
           "baxis": {
            "gridcolor": "white",
            "linecolor": "white",
            "ticks": ""
           },
           "bgcolor": "#E5ECF6",
           "caxis": {
            "gridcolor": "white",
            "linecolor": "white",
            "ticks": ""
           }
          },
          "title": {
           "x": 0.05
          },
          "xaxis": {
           "automargin": true,
           "gridcolor": "white",
           "linecolor": "white",
           "ticks": "",
           "title": {
            "standoff": 15
           },
           "zerolinecolor": "white",
           "zerolinewidth": 2
          },
          "yaxis": {
           "automargin": true,
           "gridcolor": "white",
           "linecolor": "white",
           "ticks": "",
           "title": {
            "standoff": 15
           },
           "zerolinecolor": "white",
           "zerolinewidth": 2
          }
         }
        },
        "width": 500
       }
      }
     },
     "metadata": {},
     "output_type": "display_data"
    }
   ],
   "source": [
    "import plotly.express as px\n",
    "fig =px.scatter_3d(df ,\n",
    "              x=\"population\", \n",
    "              y=\"pop_density\", \n",
    "              z=\"area_size\", \n",
    "              opacity=0.7,\n",
    "                    width=500,\n",
    "                    height=500\n",
    "           )\n",
    "fig.show()"
   ]
  },
  {
   "cell_type": "code",
   "execution_count": 156,
   "metadata": {},
   "outputs": [
    {
     "data": {
      "text/html": [
       "<div>\n",
       "<style scoped>\n",
       "    .dataframe tbody tr th:only-of-type {\n",
       "        vertical-align: middle;\n",
       "    }\n",
       "\n",
       "    .dataframe tbody tr th {\n",
       "        vertical-align: top;\n",
       "    }\n",
       "\n",
       "    .dataframe thead th {\n",
       "        text-align: right;\n",
       "    }\n",
       "</style>\n",
       "<table border=\"1\" class=\"dataframe\">\n",
       "  <thead>\n",
       "    <tr style=\"text-align: right;\">\n",
       "      <th></th>\n",
       "      <th>state_Baden-Württemberg</th>\n",
       "      <th>state_Bayern</th>\n",
       "      <th>state_Berlin</th>\n",
       "      <th>state_Brandenburg</th>\n",
       "      <th>state_Bremen</th>\n",
       "      <th>state_Hamburg</th>\n",
       "      <th>state_Hessen</th>\n",
       "      <th>state_Mecklenburg-Vorpommern</th>\n",
       "      <th>state_Niedersachsen</th>\n",
       "      <th>state_Nordrhein-Westfalen</th>\n",
       "      <th>state_Rheinland-Pfalz</th>\n",
       "      <th>state_Saarland</th>\n",
       "      <th>state_Sachsen</th>\n",
       "      <th>state_Sachsen-Anhalt</th>\n",
       "      <th>state_Schleswig-Holstein</th>\n",
       "      <th>state_Thüringen</th>\n",
       "    </tr>\n",
       "  </thead>\n",
       "  <tbody>\n",
       "    <tr>\n",
       "      <th>0</th>\n",
       "      <td>1.0</td>\n",
       "      <td>0.0</td>\n",
       "      <td>0.0</td>\n",
       "      <td>0.0</td>\n",
       "      <td>0.0</td>\n",
       "      <td>0.0</td>\n",
       "      <td>0.0</td>\n",
       "      <td>0.0</td>\n",
       "      <td>0.0</td>\n",
       "      <td>0.0</td>\n",
       "      <td>0.0</td>\n",
       "      <td>0.0</td>\n",
       "      <td>0.0</td>\n",
       "      <td>0.0</td>\n",
       "      <td>0.0</td>\n",
       "      <td>0.0</td>\n",
       "    </tr>\n",
       "    <tr>\n",
       "      <th>1</th>\n",
       "      <td>0.0</td>\n",
       "      <td>1.0</td>\n",
       "      <td>0.0</td>\n",
       "      <td>0.0</td>\n",
       "      <td>0.0</td>\n",
       "      <td>0.0</td>\n",
       "      <td>0.0</td>\n",
       "      <td>0.0</td>\n",
       "      <td>0.0</td>\n",
       "      <td>0.0</td>\n",
       "      <td>0.0</td>\n",
       "      <td>0.0</td>\n",
       "      <td>0.0</td>\n",
       "      <td>0.0</td>\n",
       "      <td>0.0</td>\n",
       "      <td>0.0</td>\n",
       "    </tr>\n",
       "    <tr>\n",
       "      <th>2</th>\n",
       "      <td>0.0</td>\n",
       "      <td>0.0</td>\n",
       "      <td>1.0</td>\n",
       "      <td>0.0</td>\n",
       "      <td>0.0</td>\n",
       "      <td>0.0</td>\n",
       "      <td>0.0</td>\n",
       "      <td>0.0</td>\n",
       "      <td>0.0</td>\n",
       "      <td>0.0</td>\n",
       "      <td>0.0</td>\n",
       "      <td>0.0</td>\n",
       "      <td>0.0</td>\n",
       "      <td>0.0</td>\n",
       "      <td>0.0</td>\n",
       "      <td>0.0</td>\n",
       "    </tr>\n",
       "    <tr>\n",
       "      <th>3</th>\n",
       "      <td>0.0</td>\n",
       "      <td>0.0</td>\n",
       "      <td>0.0</td>\n",
       "      <td>1.0</td>\n",
       "      <td>0.0</td>\n",
       "      <td>0.0</td>\n",
       "      <td>0.0</td>\n",
       "      <td>0.0</td>\n",
       "      <td>0.0</td>\n",
       "      <td>0.0</td>\n",
       "      <td>0.0</td>\n",
       "      <td>0.0</td>\n",
       "      <td>0.0</td>\n",
       "      <td>0.0</td>\n",
       "      <td>0.0</td>\n",
       "      <td>0.0</td>\n",
       "    </tr>\n",
       "    <tr>\n",
       "      <th>4</th>\n",
       "      <td>0.0</td>\n",
       "      <td>0.0</td>\n",
       "      <td>0.0</td>\n",
       "      <td>0.0</td>\n",
       "      <td>1.0</td>\n",
       "      <td>0.0</td>\n",
       "      <td>0.0</td>\n",
       "      <td>0.0</td>\n",
       "      <td>0.0</td>\n",
       "      <td>0.0</td>\n",
       "      <td>0.0</td>\n",
       "      <td>0.0</td>\n",
       "      <td>0.0</td>\n",
       "      <td>0.0</td>\n",
       "      <td>0.0</td>\n",
       "      <td>0.0</td>\n",
       "    </tr>\n",
       "    <tr>\n",
       "      <th>5</th>\n",
       "      <td>0.0</td>\n",
       "      <td>0.0</td>\n",
       "      <td>0.0</td>\n",
       "      <td>0.0</td>\n",
       "      <td>0.0</td>\n",
       "      <td>1.0</td>\n",
       "      <td>0.0</td>\n",
       "      <td>0.0</td>\n",
       "      <td>0.0</td>\n",
       "      <td>0.0</td>\n",
       "      <td>0.0</td>\n",
       "      <td>0.0</td>\n",
       "      <td>0.0</td>\n",
       "      <td>0.0</td>\n",
       "      <td>0.0</td>\n",
       "      <td>0.0</td>\n",
       "    </tr>\n",
       "    <tr>\n",
       "      <th>6</th>\n",
       "      <td>0.0</td>\n",
       "      <td>0.0</td>\n",
       "      <td>0.0</td>\n",
       "      <td>0.0</td>\n",
       "      <td>0.0</td>\n",
       "      <td>0.0</td>\n",
       "      <td>1.0</td>\n",
       "      <td>0.0</td>\n",
       "      <td>0.0</td>\n",
       "      <td>0.0</td>\n",
       "      <td>0.0</td>\n",
       "      <td>0.0</td>\n",
       "      <td>0.0</td>\n",
       "      <td>0.0</td>\n",
       "      <td>0.0</td>\n",
       "      <td>0.0</td>\n",
       "    </tr>\n",
       "    <tr>\n",
       "      <th>7</th>\n",
       "      <td>0.0</td>\n",
       "      <td>0.0</td>\n",
       "      <td>0.0</td>\n",
       "      <td>0.0</td>\n",
       "      <td>0.0</td>\n",
       "      <td>0.0</td>\n",
       "      <td>0.0</td>\n",
       "      <td>1.0</td>\n",
       "      <td>0.0</td>\n",
       "      <td>0.0</td>\n",
       "      <td>0.0</td>\n",
       "      <td>0.0</td>\n",
       "      <td>0.0</td>\n",
       "      <td>0.0</td>\n",
       "      <td>0.0</td>\n",
       "      <td>0.0</td>\n",
       "    </tr>\n",
       "    <tr>\n",
       "      <th>8</th>\n",
       "      <td>0.0</td>\n",
       "      <td>0.0</td>\n",
       "      <td>0.0</td>\n",
       "      <td>0.0</td>\n",
       "      <td>0.0</td>\n",
       "      <td>0.0</td>\n",
       "      <td>0.0</td>\n",
       "      <td>0.0</td>\n",
       "      <td>1.0</td>\n",
       "      <td>0.0</td>\n",
       "      <td>0.0</td>\n",
       "      <td>0.0</td>\n",
       "      <td>0.0</td>\n",
       "      <td>0.0</td>\n",
       "      <td>0.0</td>\n",
       "      <td>0.0</td>\n",
       "    </tr>\n",
       "    <tr>\n",
       "      <th>9</th>\n",
       "      <td>0.0</td>\n",
       "      <td>0.0</td>\n",
       "      <td>0.0</td>\n",
       "      <td>0.0</td>\n",
       "      <td>0.0</td>\n",
       "      <td>0.0</td>\n",
       "      <td>0.0</td>\n",
       "      <td>0.0</td>\n",
       "      <td>0.0</td>\n",
       "      <td>1.0</td>\n",
       "      <td>0.0</td>\n",
       "      <td>0.0</td>\n",
       "      <td>0.0</td>\n",
       "      <td>0.0</td>\n",
       "      <td>0.0</td>\n",
       "      <td>0.0</td>\n",
       "    </tr>\n",
       "    <tr>\n",
       "      <th>10</th>\n",
       "      <td>0.0</td>\n",
       "      <td>0.0</td>\n",
       "      <td>0.0</td>\n",
       "      <td>0.0</td>\n",
       "      <td>0.0</td>\n",
       "      <td>0.0</td>\n",
       "      <td>0.0</td>\n",
       "      <td>0.0</td>\n",
       "      <td>0.0</td>\n",
       "      <td>0.0</td>\n",
       "      <td>1.0</td>\n",
       "      <td>0.0</td>\n",
       "      <td>0.0</td>\n",
       "      <td>0.0</td>\n",
       "      <td>0.0</td>\n",
       "      <td>0.0</td>\n",
       "    </tr>\n",
       "    <tr>\n",
       "      <th>11</th>\n",
       "      <td>0.0</td>\n",
       "      <td>0.0</td>\n",
       "      <td>0.0</td>\n",
       "      <td>0.0</td>\n",
       "      <td>0.0</td>\n",
       "      <td>0.0</td>\n",
       "      <td>0.0</td>\n",
       "      <td>0.0</td>\n",
       "      <td>0.0</td>\n",
       "      <td>0.0</td>\n",
       "      <td>0.0</td>\n",
       "      <td>1.0</td>\n",
       "      <td>0.0</td>\n",
       "      <td>0.0</td>\n",
       "      <td>0.0</td>\n",
       "      <td>0.0</td>\n",
       "    </tr>\n",
       "    <tr>\n",
       "      <th>12</th>\n",
       "      <td>0.0</td>\n",
       "      <td>0.0</td>\n",
       "      <td>0.0</td>\n",
       "      <td>0.0</td>\n",
       "      <td>0.0</td>\n",
       "      <td>0.0</td>\n",
       "      <td>0.0</td>\n",
       "      <td>0.0</td>\n",
       "      <td>0.0</td>\n",
       "      <td>0.0</td>\n",
       "      <td>0.0</td>\n",
       "      <td>0.0</td>\n",
       "      <td>1.0</td>\n",
       "      <td>0.0</td>\n",
       "      <td>0.0</td>\n",
       "      <td>0.0</td>\n",
       "    </tr>\n",
       "    <tr>\n",
       "      <th>13</th>\n",
       "      <td>0.0</td>\n",
       "      <td>0.0</td>\n",
       "      <td>0.0</td>\n",
       "      <td>0.0</td>\n",
       "      <td>0.0</td>\n",
       "      <td>0.0</td>\n",
       "      <td>0.0</td>\n",
       "      <td>0.0</td>\n",
       "      <td>0.0</td>\n",
       "      <td>0.0</td>\n",
       "      <td>0.0</td>\n",
       "      <td>0.0</td>\n",
       "      <td>0.0</td>\n",
       "      <td>1.0</td>\n",
       "      <td>0.0</td>\n",
       "      <td>0.0</td>\n",
       "    </tr>\n",
       "    <tr>\n",
       "      <th>14</th>\n",
       "      <td>0.0</td>\n",
       "      <td>0.0</td>\n",
       "      <td>0.0</td>\n",
       "      <td>0.0</td>\n",
       "      <td>0.0</td>\n",
       "      <td>0.0</td>\n",
       "      <td>0.0</td>\n",
       "      <td>0.0</td>\n",
       "      <td>0.0</td>\n",
       "      <td>0.0</td>\n",
       "      <td>0.0</td>\n",
       "      <td>0.0</td>\n",
       "      <td>0.0</td>\n",
       "      <td>0.0</td>\n",
       "      <td>1.0</td>\n",
       "      <td>0.0</td>\n",
       "    </tr>\n",
       "    <tr>\n",
       "      <th>15</th>\n",
       "      <td>0.0</td>\n",
       "      <td>0.0</td>\n",
       "      <td>0.0</td>\n",
       "      <td>0.0</td>\n",
       "      <td>0.0</td>\n",
       "      <td>0.0</td>\n",
       "      <td>0.0</td>\n",
       "      <td>0.0</td>\n",
       "      <td>0.0</td>\n",
       "      <td>0.0</td>\n",
       "      <td>0.0</td>\n",
       "      <td>0.0</td>\n",
       "      <td>0.0</td>\n",
       "      <td>0.0</td>\n",
       "      <td>0.0</td>\n",
       "      <td>1.0</td>\n",
       "    </tr>\n",
       "  </tbody>\n",
       "</table>\n",
       "</div>"
      ],
      "text/plain": [
       "    state_Baden-Württemberg  state_Bayern  state_Berlin  state_Brandenburg  \\\n",
       "0                       1.0           0.0           0.0                0.0   \n",
       "1                       0.0           1.0           0.0                0.0   \n",
       "2                       0.0           0.0           1.0                0.0   \n",
       "3                       0.0           0.0           0.0                1.0   \n",
       "4                       0.0           0.0           0.0                0.0   \n",
       "5                       0.0           0.0           0.0                0.0   \n",
       "6                       0.0           0.0           0.0                0.0   \n",
       "7                       0.0           0.0           0.0                0.0   \n",
       "8                       0.0           0.0           0.0                0.0   \n",
       "9                       0.0           0.0           0.0                0.0   \n",
       "10                      0.0           0.0           0.0                0.0   \n",
       "11                      0.0           0.0           0.0                0.0   \n",
       "12                      0.0           0.0           0.0                0.0   \n",
       "13                      0.0           0.0           0.0                0.0   \n",
       "14                      0.0           0.0           0.0                0.0   \n",
       "15                      0.0           0.0           0.0                0.0   \n",
       "\n",
       "    state_Bremen  state_Hamburg  state_Hessen  state_Mecklenburg-Vorpommern  \\\n",
       "0            0.0            0.0           0.0                           0.0   \n",
       "1            0.0            0.0           0.0                           0.0   \n",
       "2            0.0            0.0           0.0                           0.0   \n",
       "3            0.0            0.0           0.0                           0.0   \n",
       "4            1.0            0.0           0.0                           0.0   \n",
       "5            0.0            1.0           0.0                           0.0   \n",
       "6            0.0            0.0           1.0                           0.0   \n",
       "7            0.0            0.0           0.0                           1.0   \n",
       "8            0.0            0.0           0.0                           0.0   \n",
       "9            0.0            0.0           0.0                           0.0   \n",
       "10           0.0            0.0           0.0                           0.0   \n",
       "11           0.0            0.0           0.0                           0.0   \n",
       "12           0.0            0.0           0.0                           0.0   \n",
       "13           0.0            0.0           0.0                           0.0   \n",
       "14           0.0            0.0           0.0                           0.0   \n",
       "15           0.0            0.0           0.0                           0.0   \n",
       "\n",
       "    state_Niedersachsen  state_Nordrhein-Westfalen  state_Rheinland-Pfalz  \\\n",
       "0                   0.0                        0.0                    0.0   \n",
       "1                   0.0                        0.0                    0.0   \n",
       "2                   0.0                        0.0                    0.0   \n",
       "3                   0.0                        0.0                    0.0   \n",
       "4                   0.0                        0.0                    0.0   \n",
       "5                   0.0                        0.0                    0.0   \n",
       "6                   0.0                        0.0                    0.0   \n",
       "7                   0.0                        0.0                    0.0   \n",
       "8                   1.0                        0.0                    0.0   \n",
       "9                   0.0                        1.0                    0.0   \n",
       "10                  0.0                        0.0                    1.0   \n",
       "11                  0.0                        0.0                    0.0   \n",
       "12                  0.0                        0.0                    0.0   \n",
       "13                  0.0                        0.0                    0.0   \n",
       "14                  0.0                        0.0                    0.0   \n",
       "15                  0.0                        0.0                    0.0   \n",
       "\n",
       "    state_Saarland  state_Sachsen  state_Sachsen-Anhalt  \\\n",
       "0              0.0            0.0                   0.0   \n",
       "1              0.0            0.0                   0.0   \n",
       "2              0.0            0.0                   0.0   \n",
       "3              0.0            0.0                   0.0   \n",
       "4              0.0            0.0                   0.0   \n",
       "5              0.0            0.0                   0.0   \n",
       "6              0.0            0.0                   0.0   \n",
       "7              0.0            0.0                   0.0   \n",
       "8              0.0            0.0                   0.0   \n",
       "9              0.0            0.0                   0.0   \n",
       "10             0.0            0.0                   0.0   \n",
       "11             1.0            0.0                   0.0   \n",
       "12             0.0            1.0                   0.0   \n",
       "13             0.0            0.0                   1.0   \n",
       "14             0.0            0.0                   0.0   \n",
       "15             0.0            0.0                   0.0   \n",
       "\n",
       "    state_Schleswig-Holstein  state_Thüringen  \n",
       "0                        0.0              0.0  \n",
       "1                        0.0              0.0  \n",
       "2                        0.0              0.0  \n",
       "3                        0.0              0.0  \n",
       "4                        0.0              0.0  \n",
       "5                        0.0              0.0  \n",
       "6                        0.0              0.0  \n",
       "7                        0.0              0.0  \n",
       "8                        0.0              0.0  \n",
       "9                        0.0              0.0  \n",
       "10                       0.0              0.0  \n",
       "11                       0.0              0.0  \n",
       "12                       0.0              0.0  \n",
       "13                       0.0              0.0  \n",
       "14                       1.0              0.0  \n",
       "15                       0.0              1.0  "
      ]
     },
     "execution_count": 156,
     "metadata": {},
     "output_type": "execute_result"
    }
   ],
   "source": [
    "from sklearn.preprocessing import RobustScaler\n",
    "scaler = RobustScaler()\n",
    "df_enc_scaled = pd.DataFrame(scaler.fit_transform(df_enc) , columns=df_enc.columns)\n",
    "\n",
    "df_keep_scaled"
   ]
  },
  {
   "cell_type": "code",
   "execution_count": 158,
   "metadata": {},
   "outputs": [],
   "source": [
    "from sklearn.cluster import KMeans"
   ]
  },
  {
   "cell_type": "code",
   "execution_count": 159,
   "metadata": {},
   "outputs": [
    {
     "name": "stdout",
     "output_type": "stream",
     "text": [
      "[15.0]\n",
      "[15.0, 14.0]\n",
      "[15.0, 14.0, 13.0]\n",
      "[15.0, 14.0, 13.0, 12.0]\n",
      "[15.0, 14.0, 13.0, 12.0, 11.0]\n",
      "[15.0, 14.0, 13.0, 12.0, 11.0, 10.0]\n",
      "[15.0, 14.0, 13.0, 12.0, 11.0, 10.0, 9.0]\n",
      "[15.0, 14.0, 13.0, 12.0, 11.0, 10.0, 9.0, 8.0]\n",
      "[15.0, 14.0, 13.0, 12.0, 11.0, 10.0, 9.0, 8.0, 7.0]\n",
      "[15.0, 14.0, 13.0, 12.0, 11.0, 10.0, 9.0, 8.0, 7.0, 6.0]\n",
      "[15.0, 14.0, 13.0, 12.0, 11.0, 10.0, 9.0, 8.0, 7.0, 6.0, 5.000000000000001]\n",
      "[15.0, 14.0, 13.0, 12.0, 11.0, 10.0, 9.0, 8.0, 7.0, 6.0, 5.000000000000001, 4.000000000000001]\n",
      "[15.0, 14.0, 13.0, 12.0, 11.0, 10.0, 9.0, 8.0, 7.0, 6.0, 5.000000000000001, 4.000000000000001, 3.0]\n",
      "[15.0, 14.0, 13.0, 12.0, 11.0, 10.0, 9.0, 8.0, 7.0, 6.0, 5.000000000000001, 4.000000000000001, 3.0, 2.0]\n",
      "[15.0, 14.0, 13.0, 12.0, 11.0, 10.0, 9.0, 8.0, 7.0, 6.0, 5.000000000000001, 4.000000000000001, 3.0, 2.0, 1.0]\n",
      "[15.0, 14.0, 13.0, 12.0, 11.0, 10.0, 9.0, 8.0, 7.0, 6.0, 5.000000000000001, 4.000000000000001, 3.0, 2.0, 1.0, 0.0]\n"
     ]
    },
    {
     "ename": "ValueError",
     "evalue": "n_samples=16 should be >= n_clusters=17.",
     "output_type": "error",
     "traceback": [
      "\u001b[0;31m---------------------------------------------------------------------------\u001b[0m",
      "\u001b[0;31mValueError\u001b[0m                                Traceback (most recent call last)",
      "Cell \u001b[0;32mIn[159], line 6\u001b[0m\n\u001b[1;32m      4\u001b[0m \u001b[38;5;28;01mfor\u001b[39;00m k \u001b[38;5;129;01min\u001b[39;00m nb_clusters_to_try:\n\u001b[1;32m      5\u001b[0m     kmean \u001b[38;5;241m=\u001b[39m KMeans(n_clusters\u001b[38;5;241m=\u001b[39mk , n_init\u001b[38;5;241m=\u001b[39m\u001b[38;5;124m'\u001b[39m\u001b[38;5;124mauto\u001b[39m\u001b[38;5;124m'\u001b[39m)\n\u001b[0;32m----> 6\u001b[0m     kmean\u001b[38;5;241m.\u001b[39mfit(df_enc_scaled)\n\u001b[1;32m      7\u001b[0m     inertias\u001b[38;5;241m.\u001b[39mappend(kmean\u001b[38;5;241m.\u001b[39minertia_)\n\u001b[1;32m      9\u001b[0m     \u001b[38;5;28mprint\u001b[39m(inertias)\n",
      "File \u001b[0;32m/opt/anaconda3/lib/python3.11/site-packages/sklearn/cluster/_kmeans.py:1426\u001b[0m, in \u001b[0;36mKMeans.fit\u001b[0;34m(self, X, y, sample_weight)\u001b[0m\n\u001b[1;32m   1415\u001b[0m \u001b[38;5;28mself\u001b[39m\u001b[38;5;241m.\u001b[39m_validate_params()\n\u001b[1;32m   1417\u001b[0m X \u001b[38;5;241m=\u001b[39m \u001b[38;5;28mself\u001b[39m\u001b[38;5;241m.\u001b[39m_validate_data(\n\u001b[1;32m   1418\u001b[0m     X,\n\u001b[1;32m   1419\u001b[0m     accept_sparse\u001b[38;5;241m=\u001b[39m\u001b[38;5;124m\"\u001b[39m\u001b[38;5;124mcsr\u001b[39m\u001b[38;5;124m\"\u001b[39m,\n\u001b[0;32m   (...)\u001b[0m\n\u001b[1;32m   1423\u001b[0m     accept_large_sparse\u001b[38;5;241m=\u001b[39m\u001b[38;5;28;01mFalse\u001b[39;00m,\n\u001b[1;32m   1424\u001b[0m )\n\u001b[0;32m-> 1426\u001b[0m \u001b[38;5;28mself\u001b[39m\u001b[38;5;241m.\u001b[39m_check_params_vs_input(X)\n\u001b[1;32m   1428\u001b[0m random_state \u001b[38;5;241m=\u001b[39m check_random_state(\u001b[38;5;28mself\u001b[39m\u001b[38;5;241m.\u001b[39mrandom_state)\n\u001b[1;32m   1429\u001b[0m sample_weight \u001b[38;5;241m=\u001b[39m _check_sample_weight(sample_weight, X, dtype\u001b[38;5;241m=\u001b[39mX\u001b[38;5;241m.\u001b[39mdtype)\n",
      "File \u001b[0;32m/opt/anaconda3/lib/python3.11/site-packages/sklearn/cluster/_kmeans.py:1362\u001b[0m, in \u001b[0;36mKMeans._check_params_vs_input\u001b[0;34m(self, X)\u001b[0m\n\u001b[1;32m   1361\u001b[0m \u001b[38;5;28;01mdef\u001b[39;00m \u001b[38;5;21m_check_params_vs_input\u001b[39m(\u001b[38;5;28mself\u001b[39m, X):\n\u001b[0;32m-> 1362\u001b[0m     \u001b[38;5;28msuper\u001b[39m()\u001b[38;5;241m.\u001b[39m_check_params_vs_input(X, default_n_init\u001b[38;5;241m=\u001b[39m\u001b[38;5;241m10\u001b[39m)\n\u001b[1;32m   1364\u001b[0m     \u001b[38;5;28mself\u001b[39m\u001b[38;5;241m.\u001b[39m_algorithm \u001b[38;5;241m=\u001b[39m \u001b[38;5;28mself\u001b[39m\u001b[38;5;241m.\u001b[39malgorithm\n\u001b[1;32m   1365\u001b[0m     \u001b[38;5;28;01mif\u001b[39;00m \u001b[38;5;28mself\u001b[39m\u001b[38;5;241m.\u001b[39m_algorithm \u001b[38;5;129;01min\u001b[39;00m (\u001b[38;5;124m\"\u001b[39m\u001b[38;5;124mauto\u001b[39m\u001b[38;5;124m\"\u001b[39m, \u001b[38;5;124m\"\u001b[39m\u001b[38;5;124mfull\u001b[39m\u001b[38;5;124m\"\u001b[39m):\n",
      "File \u001b[0;32m/opt/anaconda3/lib/python3.11/site-packages/sklearn/cluster/_kmeans.py:859\u001b[0m, in \u001b[0;36m_BaseKMeans._check_params_vs_input\u001b[0;34m(self, X, default_n_init)\u001b[0m\n\u001b[1;32m    856\u001b[0m \u001b[38;5;28;01mdef\u001b[39;00m \u001b[38;5;21m_check_params_vs_input\u001b[39m(\u001b[38;5;28mself\u001b[39m, X, default_n_init\u001b[38;5;241m=\u001b[39m\u001b[38;5;28;01mNone\u001b[39;00m):\n\u001b[1;32m    857\u001b[0m     \u001b[38;5;66;03m# n_clusters\u001b[39;00m\n\u001b[1;32m    858\u001b[0m     \u001b[38;5;28;01mif\u001b[39;00m X\u001b[38;5;241m.\u001b[39mshape[\u001b[38;5;241m0\u001b[39m] \u001b[38;5;241m<\u001b[39m \u001b[38;5;28mself\u001b[39m\u001b[38;5;241m.\u001b[39mn_clusters:\n\u001b[0;32m--> 859\u001b[0m         \u001b[38;5;28;01mraise\u001b[39;00m \u001b[38;5;167;01mValueError\u001b[39;00m(\n\u001b[1;32m    860\u001b[0m             \u001b[38;5;124mf\u001b[39m\u001b[38;5;124m\"\u001b[39m\u001b[38;5;124mn_samples=\u001b[39m\u001b[38;5;132;01m{\u001b[39;00mX\u001b[38;5;241m.\u001b[39mshape[\u001b[38;5;241m0\u001b[39m]\u001b[38;5;132;01m}\u001b[39;00m\u001b[38;5;124m should be >= n_clusters=\u001b[39m\u001b[38;5;132;01m{\u001b[39;00m\u001b[38;5;28mself\u001b[39m\u001b[38;5;241m.\u001b[39mn_clusters\u001b[38;5;132;01m}\u001b[39;00m\u001b[38;5;124m.\u001b[39m\u001b[38;5;124m\"\u001b[39m\n\u001b[1;32m    861\u001b[0m         )\n\u001b[1;32m    863\u001b[0m     \u001b[38;5;66;03m# tol\u001b[39;00m\n\u001b[1;32m    864\u001b[0m     \u001b[38;5;28mself\u001b[39m\u001b[38;5;241m.\u001b[39m_tol \u001b[38;5;241m=\u001b[39m _tolerance(X, \u001b[38;5;28mself\u001b[39m\u001b[38;5;241m.\u001b[39mtol)\n",
      "\u001b[0;31mValueError\u001b[0m: n_samples=16 should be >= n_clusters=17."
     ]
    }
   ],
   "source": [
    "nb_clusters_to_try = np.arange(1, 21, 1)\n",
    "nb_clusters_to_try\n",
    "inertias = []\n",
    "for k in nb_clusters_to_try:\n",
    "    kmean = KMeans(n_clusters=k , n_init='auto')\n",
    "    kmean.fit(df_enc_scaled)\n",
    "    inertias.append(kmean.inertia_)\n",
    "\n",
    "    print(inertias)"
   ]
  },
  {
   "cell_type": "code",
   "execution_count": 160,
   "metadata": {},
   "outputs": [
    {
     "data": {
      "application/vnd.plotly.v1+json": {
       "config": {
        "plotlyServerURL": "https://plot.ly"
       },
       "data": [
        {
         "hovertemplate": "nb centroids=%{x}<br>Inertia=%{y}<extra></extra>",
         "legendgroup": "",
         "line": {
          "color": "#636efa",
          "dash": "solid"
         },
         "marker": {
          "symbol": "circle"
         },
         "mode": "lines",
         "name": "",
         "orientation": "v",
         "showlegend": false,
         "type": "scatter",
         "x": [
          1,
          2,
          3,
          4,
          5,
          6,
          7,
          8,
          9,
          10,
          11,
          12,
          13,
          14,
          15,
          16
         ],
         "xaxis": "x",
         "y": [
          15,
          14,
          13,
          12,
          11,
          10,
          9,
          8,
          7,
          6,
          5.000000000000001,
          4.000000000000001,
          3,
          2,
          1,
          0
         ],
         "yaxis": "y"
        }
       ],
       "layout": {
        "legend": {
         "tracegroupgap": 0
        },
        "template": {
         "data": {
          "bar": [
           {
            "error_x": {
             "color": "#2a3f5f"
            },
            "error_y": {
             "color": "#2a3f5f"
            },
            "marker": {
             "line": {
              "color": "#E5ECF6",
              "width": 0.5
             },
             "pattern": {
              "fillmode": "overlay",
              "size": 10,
              "solidity": 0.2
             }
            },
            "type": "bar"
           }
          ],
          "barpolar": [
           {
            "marker": {
             "line": {
              "color": "#E5ECF6",
              "width": 0.5
             },
             "pattern": {
              "fillmode": "overlay",
              "size": 10,
              "solidity": 0.2
             }
            },
            "type": "barpolar"
           }
          ],
          "carpet": [
           {
            "aaxis": {
             "endlinecolor": "#2a3f5f",
             "gridcolor": "white",
             "linecolor": "white",
             "minorgridcolor": "white",
             "startlinecolor": "#2a3f5f"
            },
            "baxis": {
             "endlinecolor": "#2a3f5f",
             "gridcolor": "white",
             "linecolor": "white",
             "minorgridcolor": "white",
             "startlinecolor": "#2a3f5f"
            },
            "type": "carpet"
           }
          ],
          "choropleth": [
           {
            "colorbar": {
             "outlinewidth": 0,
             "ticks": ""
            },
            "type": "choropleth"
           }
          ],
          "contour": [
           {
            "colorbar": {
             "outlinewidth": 0,
             "ticks": ""
            },
            "colorscale": [
             [
              0,
              "#0d0887"
             ],
             [
              0.1111111111111111,
              "#46039f"
             ],
             [
              0.2222222222222222,
              "#7201a8"
             ],
             [
              0.3333333333333333,
              "#9c179e"
             ],
             [
              0.4444444444444444,
              "#bd3786"
             ],
             [
              0.5555555555555556,
              "#d8576b"
             ],
             [
              0.6666666666666666,
              "#ed7953"
             ],
             [
              0.7777777777777778,
              "#fb9f3a"
             ],
             [
              0.8888888888888888,
              "#fdca26"
             ],
             [
              1,
              "#f0f921"
             ]
            ],
            "type": "contour"
           }
          ],
          "contourcarpet": [
           {
            "colorbar": {
             "outlinewidth": 0,
             "ticks": ""
            },
            "type": "contourcarpet"
           }
          ],
          "heatmap": [
           {
            "colorbar": {
             "outlinewidth": 0,
             "ticks": ""
            },
            "colorscale": [
             [
              0,
              "#0d0887"
             ],
             [
              0.1111111111111111,
              "#46039f"
             ],
             [
              0.2222222222222222,
              "#7201a8"
             ],
             [
              0.3333333333333333,
              "#9c179e"
             ],
             [
              0.4444444444444444,
              "#bd3786"
             ],
             [
              0.5555555555555556,
              "#d8576b"
             ],
             [
              0.6666666666666666,
              "#ed7953"
             ],
             [
              0.7777777777777778,
              "#fb9f3a"
             ],
             [
              0.8888888888888888,
              "#fdca26"
             ],
             [
              1,
              "#f0f921"
             ]
            ],
            "type": "heatmap"
           }
          ],
          "heatmapgl": [
           {
            "colorbar": {
             "outlinewidth": 0,
             "ticks": ""
            },
            "colorscale": [
             [
              0,
              "#0d0887"
             ],
             [
              0.1111111111111111,
              "#46039f"
             ],
             [
              0.2222222222222222,
              "#7201a8"
             ],
             [
              0.3333333333333333,
              "#9c179e"
             ],
             [
              0.4444444444444444,
              "#bd3786"
             ],
             [
              0.5555555555555556,
              "#d8576b"
             ],
             [
              0.6666666666666666,
              "#ed7953"
             ],
             [
              0.7777777777777778,
              "#fb9f3a"
             ],
             [
              0.8888888888888888,
              "#fdca26"
             ],
             [
              1,
              "#f0f921"
             ]
            ],
            "type": "heatmapgl"
           }
          ],
          "histogram": [
           {
            "marker": {
             "pattern": {
              "fillmode": "overlay",
              "size": 10,
              "solidity": 0.2
             }
            },
            "type": "histogram"
           }
          ],
          "histogram2d": [
           {
            "colorbar": {
             "outlinewidth": 0,
             "ticks": ""
            },
            "colorscale": [
             [
              0,
              "#0d0887"
             ],
             [
              0.1111111111111111,
              "#46039f"
             ],
             [
              0.2222222222222222,
              "#7201a8"
             ],
             [
              0.3333333333333333,
              "#9c179e"
             ],
             [
              0.4444444444444444,
              "#bd3786"
             ],
             [
              0.5555555555555556,
              "#d8576b"
             ],
             [
              0.6666666666666666,
              "#ed7953"
             ],
             [
              0.7777777777777778,
              "#fb9f3a"
             ],
             [
              0.8888888888888888,
              "#fdca26"
             ],
             [
              1,
              "#f0f921"
             ]
            ],
            "type": "histogram2d"
           }
          ],
          "histogram2dcontour": [
           {
            "colorbar": {
             "outlinewidth": 0,
             "ticks": ""
            },
            "colorscale": [
             [
              0,
              "#0d0887"
             ],
             [
              0.1111111111111111,
              "#46039f"
             ],
             [
              0.2222222222222222,
              "#7201a8"
             ],
             [
              0.3333333333333333,
              "#9c179e"
             ],
             [
              0.4444444444444444,
              "#bd3786"
             ],
             [
              0.5555555555555556,
              "#d8576b"
             ],
             [
              0.6666666666666666,
              "#ed7953"
             ],
             [
              0.7777777777777778,
              "#fb9f3a"
             ],
             [
              0.8888888888888888,
              "#fdca26"
             ],
             [
              1,
              "#f0f921"
             ]
            ],
            "type": "histogram2dcontour"
           }
          ],
          "mesh3d": [
           {
            "colorbar": {
             "outlinewidth": 0,
             "ticks": ""
            },
            "type": "mesh3d"
           }
          ],
          "parcoords": [
           {
            "line": {
             "colorbar": {
              "outlinewidth": 0,
              "ticks": ""
             }
            },
            "type": "parcoords"
           }
          ],
          "pie": [
           {
            "automargin": true,
            "type": "pie"
           }
          ],
          "scatter": [
           {
            "fillpattern": {
             "fillmode": "overlay",
             "size": 10,
             "solidity": 0.2
            },
            "type": "scatter"
           }
          ],
          "scatter3d": [
           {
            "line": {
             "colorbar": {
              "outlinewidth": 0,
              "ticks": ""
             }
            },
            "marker": {
             "colorbar": {
              "outlinewidth": 0,
              "ticks": ""
             }
            },
            "type": "scatter3d"
           }
          ],
          "scattercarpet": [
           {
            "marker": {
             "colorbar": {
              "outlinewidth": 0,
              "ticks": ""
             }
            },
            "type": "scattercarpet"
           }
          ],
          "scattergeo": [
           {
            "marker": {
             "colorbar": {
              "outlinewidth": 0,
              "ticks": ""
             }
            },
            "type": "scattergeo"
           }
          ],
          "scattergl": [
           {
            "marker": {
             "colorbar": {
              "outlinewidth": 0,
              "ticks": ""
             }
            },
            "type": "scattergl"
           }
          ],
          "scattermapbox": [
           {
            "marker": {
             "colorbar": {
              "outlinewidth": 0,
              "ticks": ""
             }
            },
            "type": "scattermapbox"
           }
          ],
          "scatterpolar": [
           {
            "marker": {
             "colorbar": {
              "outlinewidth": 0,
              "ticks": ""
             }
            },
            "type": "scatterpolar"
           }
          ],
          "scatterpolargl": [
           {
            "marker": {
             "colorbar": {
              "outlinewidth": 0,
              "ticks": ""
             }
            },
            "type": "scatterpolargl"
           }
          ],
          "scatterternary": [
           {
            "marker": {
             "colorbar": {
              "outlinewidth": 0,
              "ticks": ""
             }
            },
            "type": "scatterternary"
           }
          ],
          "surface": [
           {
            "colorbar": {
             "outlinewidth": 0,
             "ticks": ""
            },
            "colorscale": [
             [
              0,
              "#0d0887"
             ],
             [
              0.1111111111111111,
              "#46039f"
             ],
             [
              0.2222222222222222,
              "#7201a8"
             ],
             [
              0.3333333333333333,
              "#9c179e"
             ],
             [
              0.4444444444444444,
              "#bd3786"
             ],
             [
              0.5555555555555556,
              "#d8576b"
             ],
             [
              0.6666666666666666,
              "#ed7953"
             ],
             [
              0.7777777777777778,
              "#fb9f3a"
             ],
             [
              0.8888888888888888,
              "#fdca26"
             ],
             [
              1,
              "#f0f921"
             ]
            ],
            "type": "surface"
           }
          ],
          "table": [
           {
            "cells": {
             "fill": {
              "color": "#EBF0F8"
             },
             "line": {
              "color": "white"
             }
            },
            "header": {
             "fill": {
              "color": "#C8D4E3"
             },
             "line": {
              "color": "white"
             }
            },
            "type": "table"
           }
          ]
         },
         "layout": {
          "annotationdefaults": {
           "arrowcolor": "#2a3f5f",
           "arrowhead": 0,
           "arrowwidth": 1
          },
          "autotypenumbers": "strict",
          "coloraxis": {
           "colorbar": {
            "outlinewidth": 0,
            "ticks": ""
           }
          },
          "colorscale": {
           "diverging": [
            [
             0,
             "#8e0152"
            ],
            [
             0.1,
             "#c51b7d"
            ],
            [
             0.2,
             "#de77ae"
            ],
            [
             0.3,
             "#f1b6da"
            ],
            [
             0.4,
             "#fde0ef"
            ],
            [
             0.5,
             "#f7f7f7"
            ],
            [
             0.6,
             "#e6f5d0"
            ],
            [
             0.7,
             "#b8e186"
            ],
            [
             0.8,
             "#7fbc41"
            ],
            [
             0.9,
             "#4d9221"
            ],
            [
             1,
             "#276419"
            ]
           ],
           "sequential": [
            [
             0,
             "#0d0887"
            ],
            [
             0.1111111111111111,
             "#46039f"
            ],
            [
             0.2222222222222222,
             "#7201a8"
            ],
            [
             0.3333333333333333,
             "#9c179e"
            ],
            [
             0.4444444444444444,
             "#bd3786"
            ],
            [
             0.5555555555555556,
             "#d8576b"
            ],
            [
             0.6666666666666666,
             "#ed7953"
            ],
            [
             0.7777777777777778,
             "#fb9f3a"
            ],
            [
             0.8888888888888888,
             "#fdca26"
            ],
            [
             1,
             "#f0f921"
            ]
           ],
           "sequentialminus": [
            [
             0,
             "#0d0887"
            ],
            [
             0.1111111111111111,
             "#46039f"
            ],
            [
             0.2222222222222222,
             "#7201a8"
            ],
            [
             0.3333333333333333,
             "#9c179e"
            ],
            [
             0.4444444444444444,
             "#bd3786"
            ],
            [
             0.5555555555555556,
             "#d8576b"
            ],
            [
             0.6666666666666666,
             "#ed7953"
            ],
            [
             0.7777777777777778,
             "#fb9f3a"
            ],
            [
             0.8888888888888888,
             "#fdca26"
            ],
            [
             1,
             "#f0f921"
            ]
           ]
          },
          "colorway": [
           "#636efa",
           "#EF553B",
           "#00cc96",
           "#ab63fa",
           "#FFA15A",
           "#19d3f3",
           "#FF6692",
           "#B6E880",
           "#FF97FF",
           "#FECB52"
          ],
          "font": {
           "color": "#2a3f5f"
          },
          "geo": {
           "bgcolor": "white",
           "lakecolor": "white",
           "landcolor": "#E5ECF6",
           "showlakes": true,
           "showland": true,
           "subunitcolor": "white"
          },
          "hoverlabel": {
           "align": "left"
          },
          "hovermode": "closest",
          "mapbox": {
           "style": "light"
          },
          "paper_bgcolor": "white",
          "plot_bgcolor": "#E5ECF6",
          "polar": {
           "angularaxis": {
            "gridcolor": "white",
            "linecolor": "white",
            "ticks": ""
           },
           "bgcolor": "#E5ECF6",
           "radialaxis": {
            "gridcolor": "white",
            "linecolor": "white",
            "ticks": ""
           }
          },
          "scene": {
           "xaxis": {
            "backgroundcolor": "#E5ECF6",
            "gridcolor": "white",
            "gridwidth": 2,
            "linecolor": "white",
            "showbackground": true,
            "ticks": "",
            "zerolinecolor": "white"
           },
           "yaxis": {
            "backgroundcolor": "#E5ECF6",
            "gridcolor": "white",
            "gridwidth": 2,
            "linecolor": "white",
            "showbackground": true,
            "ticks": "",
            "zerolinecolor": "white"
           },
           "zaxis": {
            "backgroundcolor": "#E5ECF6",
            "gridcolor": "white",
            "gridwidth": 2,
            "linecolor": "white",
            "showbackground": true,
            "ticks": "",
            "zerolinecolor": "white"
           }
          },
          "shapedefaults": {
           "line": {
            "color": "#2a3f5f"
           }
          },
          "ternary": {
           "aaxis": {
            "gridcolor": "white",
            "linecolor": "white",
            "ticks": ""
           },
           "baxis": {
            "gridcolor": "white",
            "linecolor": "white",
            "ticks": ""
           },
           "bgcolor": "#E5ECF6",
           "caxis": {
            "gridcolor": "white",
            "linecolor": "white",
            "ticks": ""
           }
          },
          "title": {
           "x": 0.05
          },
          "xaxis": {
           "automargin": true,
           "gridcolor": "white",
           "linecolor": "white",
           "ticks": "",
           "title": {
            "standoff": 15
           },
           "zerolinecolor": "white",
           "zerolinewidth": 2
          },
          "yaxis": {
           "automargin": true,
           "gridcolor": "white",
           "linecolor": "white",
           "ticks": "",
           "title": {
            "standoff": 15
           },
           "zerolinecolor": "white",
           "zerolinewidth": 2
          }
         }
        },
        "title": {
         "text": "Elbow method"
        },
        "xaxis": {
         "anchor": "y",
         "domain": [
          0,
          1
         ],
         "title": {
          "text": "nb centroids"
         }
        },
        "yaxis": {
         "anchor": "x",
         "domain": [
          0,
          1
         ],
         "title": {
          "text": "Inertia"
         }
        }
       }
      }
     },
     "metadata": {},
     "output_type": "display_data"
    }
   ],
   "source": [
    "fig = px.line(y=inertias,\n",
    "              x=range(1, len(inertias) + 1),\n",
    "              labels={'x': 'nb centroids', 'y':'Inertia'},\n",
    "              title=\"Elbow method\")\n",
    "fig.show()"
   ]
  },
  {
   "cell_type": "code",
   "execution_count": 186,
   "metadata": {},
   "outputs": [],
   "source": [
    "from sklearn.cluster import KMeans\n",
    "df_cluster = 6\n",
    "KMeans = KMeans(n_clusters=df_cluster , n_init='auto' , max_iter=300)\n",
    "KMeans.fit(df_enc_scaled)\n",
    "labelling = KMeans.labels_\n"
   ]
  },
  {
   "cell_type": "code",
   "execution_count": 193,
   "metadata": {},
   "outputs": [
    {
     "data": {
      "text/html": [
       "<div>\n",
       "<style scoped>\n",
       "    .dataframe tbody tr th:only-of-type {\n",
       "        vertical-align: middle;\n",
       "    }\n",
       "\n",
       "    .dataframe tbody tr th {\n",
       "        vertical-align: top;\n",
       "    }\n",
       "\n",
       "    .dataframe thead th {\n",
       "        text-align: right;\n",
       "    }\n",
       "</style>\n",
       "<table border=\"1\" class=\"dataframe\">\n",
       "  <thead>\n",
       "    <tr style=\"text-align: right;\">\n",
       "      <th></th>\n",
       "      <th>state</th>\n",
       "      <th>population</th>\n",
       "      <th>pop_density</th>\n",
       "      <th>area_size</th>\n",
       "      <th>label</th>\n",
       "    </tr>\n",
       "  </thead>\n",
       "  <tbody>\n",
       "    <tr>\n",
       "      <th>0</th>\n",
       "      <td>Baden-Württemberg</td>\n",
       "      <td>11124642</td>\n",
       "      <td>24146</td>\n",
       "      <td>35673.23</td>\n",
       "      <td>0</td>\n",
       "    </tr>\n",
       "    <tr>\n",
       "      <th>1</th>\n",
       "      <td>Bayern</td>\n",
       "      <td>13176989</td>\n",
       "      <td>28713</td>\n",
       "      <td>68368.54</td>\n",
       "      <td>0</td>\n",
       "    </tr>\n",
       "    <tr>\n",
       "      <th>2</th>\n",
       "      <td>Berlin</td>\n",
       "      <td>3677472</td>\n",
       "      <td>4127</td>\n",
       "      <td>891.12</td>\n",
       "      <td>0</td>\n",
       "    </tr>\n",
       "    <tr>\n",
       "      <th>3</th>\n",
       "      <td>Brandenburg</td>\n",
       "      <td>2537868</td>\n",
       "      <td>3344</td>\n",
       "      <td>29654.40</td>\n",
       "      <td>0</td>\n",
       "    </tr>\n",
       "    <tr>\n",
       "      <th>4</th>\n",
       "      <td>Bremen</td>\n",
       "      <td>676463</td>\n",
       "      <td>2887</td>\n",
       "      <td>419.37</td>\n",
       "      <td>0</td>\n",
       "    </tr>\n",
       "    <tr>\n",
       "      <th>5</th>\n",
       "      <td>Hamburg</td>\n",
       "      <td>1853935</td>\n",
       "      <td>2455</td>\n",
       "      <td>755.09</td>\n",
       "      <td>2</td>\n",
       "    </tr>\n",
       "    <tr>\n",
       "      <th>6</th>\n",
       "      <td>Hessen</td>\n",
       "      <td>6295017</td>\n",
       "      <td>17386</td>\n",
       "      <td>20788.70</td>\n",
       "      <td>0</td>\n",
       "    </tr>\n",
       "    <tr>\n",
       "      <th>7</th>\n",
       "      <td>Mecklenburg-Vorpommern</td>\n",
       "      <td>1611160</td>\n",
       "      <td>2241</td>\n",
       "      <td>23293.82</td>\n",
       "      <td>5</td>\n",
       "    </tr>\n",
       "    <tr>\n",
       "      <th>8</th>\n",
       "      <td>Niedersachsen</td>\n",
       "      <td>8027031</td>\n",
       "      <td>13514</td>\n",
       "      <td>46582.60</td>\n",
       "      <td>4</td>\n",
       "    </tr>\n",
       "    <tr>\n",
       "      <th>9</th>\n",
       "      <td>Nordrhein-Westfalen</td>\n",
       "      <td>17924591</td>\n",
       "      <td>56764</td>\n",
       "      <td>34112.49</td>\n",
       "      <td>3</td>\n",
       "    </tr>\n",
       "    <tr>\n",
       "      <th>10</th>\n",
       "      <td>Rheinland-Pfalz</td>\n",
       "      <td>4106485</td>\n",
       "      <td>16805</td>\n",
       "      <td>19851.69</td>\n",
       "      <td>0</td>\n",
       "    </tr>\n",
       "    <tr>\n",
       "      <th>11</th>\n",
       "      <td>Saarland</td>\n",
       "      <td>982348</td>\n",
       "      <td>2446</td>\n",
       "      <td>2570.49</td>\n",
       "      <td>0</td>\n",
       "    </tr>\n",
       "    <tr>\n",
       "      <th>12</th>\n",
       "      <td>Sachsen</td>\n",
       "      <td>4043002</td>\n",
       "      <td>6424</td>\n",
       "      <td>18450.00</td>\n",
       "      <td>0</td>\n",
       "    </tr>\n",
       "    <tr>\n",
       "      <th>13</th>\n",
       "      <td>Sachsen-Anhalt</td>\n",
       "      <td>2169253</td>\n",
       "      <td>4211</td>\n",
       "      <td>20464.10</td>\n",
       "      <td>1</td>\n",
       "    </tr>\n",
       "    <tr>\n",
       "      <th>14</th>\n",
       "      <td>Schleswig-Holstein</td>\n",
       "      <td>2922005</td>\n",
       "      <td>7754</td>\n",
       "      <td>15804.33</td>\n",
       "      <td>0</td>\n",
       "    </tr>\n",
       "    <tr>\n",
       "      <th>15</th>\n",
       "      <td>Thüringen</td>\n",
       "      <td>2105480</td>\n",
       "      <td>5178</td>\n",
       "      <td>16148.79</td>\n",
       "      <td>0</td>\n",
       "    </tr>\n",
       "  </tbody>\n",
       "</table>\n",
       "</div>"
      ],
      "text/plain": [
       "                     state  population  pop_density  area_size  label\n",
       "0        Baden-Württemberg    11124642        24146   35673.23      0\n",
       "1                   Bayern    13176989        28713   68368.54      0\n",
       "2                   Berlin     3677472         4127     891.12      0\n",
       "3              Brandenburg     2537868         3344   29654.40      0\n",
       "4                   Bremen      676463         2887     419.37      0\n",
       "5                  Hamburg     1853935         2455     755.09      2\n",
       "6                   Hessen     6295017        17386   20788.70      0\n",
       "7   Mecklenburg-Vorpommern     1611160         2241   23293.82      5\n",
       "8            Niedersachsen     8027031        13514   46582.60      4\n",
       "9      Nordrhein-Westfalen    17924591        56764   34112.49      3\n",
       "10         Rheinland-Pfalz     4106485        16805   19851.69      0\n",
       "11                Saarland      982348         2446    2570.49      0\n",
       "12                 Sachsen     4043002         6424   18450.00      0\n",
       "13          Sachsen-Anhalt     2169253         4211   20464.10      1\n",
       "14      Schleswig-Holstein     2922005         7754   15804.33      0\n",
       "15               Thüringen     2105480         5178   16148.79      0"
      ]
     },
     "execution_count": 193,
     "metadata": {},
     "output_type": "execute_result"
    }
   ],
   "source": [
    "grouped_df[\"label\"] = pd.Series(labelling)\n",
    "grouped_df"
   ]
  },
  {
   "cell_type": "code",
   "execution_count": 194,
   "metadata": {},
   "outputs": [
    {
     "data": {
      "text/plain": [
       "label\n",
       "0    11\n",
       "2     1\n",
       "5     1\n",
       "4     1\n",
       "3     1\n",
       "1     1\n",
       "Name: count, dtype: int64"
      ]
     },
     "execution_count": 194,
     "metadata": {},
     "output_type": "execute_result"
    }
   ],
   "source": [
    "grouped_df[\"label\"].value_counts()"
   ]
  },
  {
   "cell_type": "code",
   "execution_count": 99,
   "metadata": {},
   "outputs": [
    {
     "data": {
      "text/html": [
       "<div>\n",
       "<style scoped>\n",
       "    .dataframe tbody tr th:only-of-type {\n",
       "        vertical-align: middle;\n",
       "    }\n",
       "\n",
       "    .dataframe tbody tr th {\n",
       "        vertical-align: top;\n",
       "    }\n",
       "\n",
       "    .dataframe thead th {\n",
       "        text-align: right;\n",
       "    }\n",
       "</style>\n",
       "<table border=\"1\" class=\"dataframe\">\n",
       "  <thead>\n",
       "    <tr style=\"text-align: right;\">\n",
       "      <th></th>\n",
       "      <th>district</th>\n",
       "      <th>state</th>\n",
       "      <th>population</th>\n",
       "      <th>pop_density</th>\n",
       "      <th>area_size</th>\n",
       "      <th>label</th>\n",
       "    </tr>\n",
       "  </thead>\n",
       "  <tbody>\n",
       "    <tr>\n",
       "      <th>0</th>\n",
       "      <td>St. Wendel</td>\n",
       "      <td>Saarland</td>\n",
       "      <td>86170</td>\n",
       "      <td>181</td>\n",
       "      <td>476.48</td>\n",
       "      <td>6</td>\n",
       "    </tr>\n",
       "    <tr>\n",
       "      <th>1</th>\n",
       "      <td>Neunkirchen</td>\n",
       "      <td>Saarland</td>\n",
       "      <td>130847</td>\n",
       "      <td>524</td>\n",
       "      <td>249.80</td>\n",
       "      <td>6</td>\n",
       "    </tr>\n",
       "    <tr>\n",
       "      <th>2</th>\n",
       "      <td>Saarpfalz-Kreis</td>\n",
       "      <td>Saarland</td>\n",
       "      <td>140960</td>\n",
       "      <td>337</td>\n",
       "      <td>418.28</td>\n",
       "      <td>6</td>\n",
       "    </tr>\n",
       "    <tr>\n",
       "      <th>3</th>\n",
       "      <td>Saarlouis</td>\n",
       "      <td>Saarland</td>\n",
       "      <td>193661</td>\n",
       "      <td>422</td>\n",
       "      <td>459.35</td>\n",
       "      <td>6</td>\n",
       "    </tr>\n",
       "    <tr>\n",
       "      <th>5</th>\n",
       "      <td>Merzig-Wadern</td>\n",
       "      <td>Saarland</td>\n",
       "      <td>103426</td>\n",
       "      <td>186</td>\n",
       "      <td>555.63</td>\n",
       "      <td>6</td>\n",
       "    </tr>\n",
       "    <tr>\n",
       "      <th>12</th>\n",
       "      <td>Plön</td>\n",
       "      <td>Schleswig-Holstein</td>\n",
       "      <td>129687</td>\n",
       "      <td>120</td>\n",
       "      <td>1083.57</td>\n",
       "      <td>6</td>\n",
       "    </tr>\n",
       "    <tr>\n",
       "      <th>20</th>\n",
       "      <td>Steinburg</td>\n",
       "      <td>Schleswig-Holstein</td>\n",
       "      <td>130843</td>\n",
       "      <td>124</td>\n",
       "      <td>1055.70</td>\n",
       "      <td>6</td>\n",
       "    </tr>\n",
       "    <tr>\n",
       "      <th>21</th>\n",
       "      <td>Stormarn</td>\n",
       "      <td>Schleswig-Holstein</td>\n",
       "      <td>245406</td>\n",
       "      <td>320</td>\n",
       "      <td>766.24</td>\n",
       "      <td>6</td>\n",
       "    </tr>\n",
       "    <tr>\n",
       "      <th>26</th>\n",
       "      <td>Wittmund</td>\n",
       "      <td>Niedersachsen</td>\n",
       "      <td>57455</td>\n",
       "      <td>87</td>\n",
       "      <td>656.84</td>\n",
       "      <td>6</td>\n",
       "    </tr>\n",
       "    <tr>\n",
       "      <th>29</th>\n",
       "      <td>Friesland</td>\n",
       "      <td>Niedersachsen</td>\n",
       "      <td>98971</td>\n",
       "      <td>162</td>\n",
       "      <td>609.53</td>\n",
       "      <td>6</td>\n",
       "    </tr>\n",
       "    <tr>\n",
       "      <th>31</th>\n",
       "      <td>Leer</td>\n",
       "      <td>Niedersachsen</td>\n",
       "      <td>172421</td>\n",
       "      <td>159</td>\n",
       "      <td>1085.40</td>\n",
       "      <td>6</td>\n",
       "    </tr>\n",
       "    <tr>\n",
       "      <th>32</th>\n",
       "      <td>Osterholz</td>\n",
       "      <td>Niedersachsen</td>\n",
       "      <td>115054</td>\n",
       "      <td>176</td>\n",
       "      <td>652.67</td>\n",
       "      <td>6</td>\n",
       "    </tr>\n",
       "    <tr>\n",
       "      <th>34</th>\n",
       "      <td>Wesermarsch</td>\n",
       "      <td>Niedersachsen</td>\n",
       "      <td>88430</td>\n",
       "      <td>107</td>\n",
       "      <td>824.79</td>\n",
       "      <td>6</td>\n",
       "    </tr>\n",
       "    <tr>\n",
       "      <th>35</th>\n",
       "      <td>Emden, Stadt</td>\n",
       "      <td>Niedersachsen</td>\n",
       "      <td>49523</td>\n",
       "      <td>441</td>\n",
       "      <td>112.34</td>\n",
       "      <td>6</td>\n",
       "    </tr>\n",
       "    <tr>\n",
       "      <th>46</th>\n",
       "      <td>Nienburg (Weser)</td>\n",
       "      <td>Niedersachsen</td>\n",
       "      <td>121773</td>\n",
       "      <td>87</td>\n",
       "      <td>1400.81</td>\n",
       "      <td>6</td>\n",
       "    </tr>\n",
       "    <tr>\n",
       "      <th>47</th>\n",
       "      <td>Oldenburg</td>\n",
       "      <td>Niedersachsen</td>\n",
       "      <td>132091</td>\n",
       "      <td>124</td>\n",
       "      <td>1064.83</td>\n",
       "      <td>6</td>\n",
       "    </tr>\n",
       "    <tr>\n",
       "      <th>49</th>\n",
       "      <td>Verden</td>\n",
       "      <td>Niedersachsen</td>\n",
       "      <td>138507</td>\n",
       "      <td>175</td>\n",
       "      <td>789.33</td>\n",
       "      <td>6</td>\n",
       "    </tr>\n",
       "    <tr>\n",
       "      <th>51</th>\n",
       "      <td>Lüchow-Dannenberg</td>\n",
       "      <td>Niedersachsen</td>\n",
       "      <td>48472</td>\n",
       "      <td>43</td>\n",
       "      <td>1123.31</td>\n",
       "      <td>6</td>\n",
       "    </tr>\n",
       "    <tr>\n",
       "      <th>52</th>\n",
       "      <td>Ammerland</td>\n",
       "      <td>Niedersachsen</td>\n",
       "      <td>126475</td>\n",
       "      <td>173</td>\n",
       "      <td>730.65</td>\n",
       "      <td>6</td>\n",
       "    </tr>\n",
       "    <tr>\n",
       "      <th>53</th>\n",
       "      <td>Uelzen</td>\n",
       "      <td>Niedersachsen</td>\n",
       "      <td>92894</td>\n",
       "      <td>64</td>\n",
       "      <td>1462.60</td>\n",
       "      <td>6</td>\n",
       "    </tr>\n",
       "    <tr>\n",
       "      <th>59</th>\n",
       "      <td>Vechta</td>\n",
       "      <td>Niedersachsen</td>\n",
       "      <td>144805</td>\n",
       "      <td>178</td>\n",
       "      <td>814.22</td>\n",
       "      <td>6</td>\n",
       "    </tr>\n",
       "    <tr>\n",
       "      <th>70</th>\n",
       "      <td>Brandenburg an der Havel, Stadt</td>\n",
       "      <td>Brandenburg</td>\n",
       "      <td>72461</td>\n",
       "      <td>315</td>\n",
       "      <td>229.72</td>\n",
       "      <td>6</td>\n",
       "    </tr>\n",
       "    <tr>\n",
       "      <th>71</th>\n",
       "      <td>Frankfurt (Oder), Stadt</td>\n",
       "      <td>Brandenburg</td>\n",
       "      <td>56679</td>\n",
       "      <td>383</td>\n",
       "      <td>147.85</td>\n",
       "      <td>6</td>\n",
       "    </tr>\n",
       "    <tr>\n",
       "      <th>73</th>\n",
       "      <td>Helmstedt</td>\n",
       "      <td>Niedersachsen</td>\n",
       "      <td>91379</td>\n",
       "      <td>148</td>\n",
       "      <td>616.56</td>\n",
       "      <td>6</td>\n",
       "    </tr>\n",
       "    <tr>\n",
       "      <th>74</th>\n",
       "      <td>Wolfenbüttel</td>\n",
       "      <td>Niedersachsen</td>\n",
       "      <td>119224</td>\n",
       "      <td>168</td>\n",
       "      <td>711.39</td>\n",
       "      <td>6</td>\n",
       "    </tr>\n",
       "    <tr>\n",
       "      <th>75</th>\n",
       "      <td>Schaumburg</td>\n",
       "      <td>Niedersachsen</td>\n",
       "      <td>158108</td>\n",
       "      <td>234</td>\n",
       "      <td>675.67</td>\n",
       "      <td>6</td>\n",
       "    </tr>\n",
       "    <tr>\n",
       "      <th>76</th>\n",
       "      <td>Hameln-Pyrmont</td>\n",
       "      <td>Niedersachsen</td>\n",
       "      <td>148963</td>\n",
       "      <td>187</td>\n",
       "      <td>797.53</td>\n",
       "      <td>6</td>\n",
       "    </tr>\n",
       "    <tr>\n",
       "      <th>82</th>\n",
       "      <td>Salzgitter, Stadt</td>\n",
       "      <td>Niedersachsen</td>\n",
       "      <td>103694</td>\n",
       "      <td>462</td>\n",
       "      <td>224.49</td>\n",
       "      <td>6</td>\n",
       "    </tr>\n",
       "    <tr>\n",
       "      <th>83</th>\n",
       "      <td>Peine</td>\n",
       "      <td>Niedersachsen</td>\n",
       "      <td>136960</td>\n",
       "      <td>255</td>\n",
       "      <td>536.50</td>\n",
       "      <td>6</td>\n",
       "    </tr>\n",
       "    <tr>\n",
       "      <th>84</th>\n",
       "      <td>Grafschaft Bentheim</td>\n",
       "      <td>Niedersachsen</td>\n",
       "      <td>138722</td>\n",
       "      <td>141</td>\n",
       "      <td>981.79</td>\n",
       "      <td>6</td>\n",
       "    </tr>\n",
       "    <tr>\n",
       "      <th>91</th>\n",
       "      <td>Dessau-Roßlau, Stadt</td>\n",
       "      <td>Sachsen-Anhalt</td>\n",
       "      <td>78731</td>\n",
       "      <td>321</td>\n",
       "      <td>245.00</td>\n",
       "      <td>6</td>\n",
       "    </tr>\n",
       "    <tr>\n",
       "      <th>96</th>\n",
       "      <td>Herford</td>\n",
       "      <td>Nordrhein-Westfalen</td>\n",
       "      <td>250635</td>\n",
       "      <td>556</td>\n",
       "      <td>450.39</td>\n",
       "      <td>6</td>\n",
       "    </tr>\n",
       "    <tr>\n",
       "      <th>100</th>\n",
       "      <td>Holzminden</td>\n",
       "      <td>Niedersachsen</td>\n",
       "      <td>69862</td>\n",
       "      <td>121</td>\n",
       "      <td>576.84</td>\n",
       "      <td>6</td>\n",
       "    </tr>\n",
       "    <tr>\n",
       "      <th>102</th>\n",
       "      <td>Hof</td>\n",
       "      <td>Bayern</td>\n",
       "      <td>139032</td>\n",
       "      <td>152</td>\n",
       "      <td>912.95</td>\n",
       "      <td>6</td>\n",
       "    </tr>\n",
       "    <tr>\n",
       "      <th>104</th>\n",
       "      <td>Kassel</td>\n",
       "      <td>Hessen</td>\n",
       "      <td>237268</td>\n",
       "      <td>214</td>\n",
       "      <td>1110.83</td>\n",
       "      <td>6</td>\n",
       "    </tr>\n",
       "    <tr>\n",
       "      <th>105</th>\n",
       "      <td>Werra-Meißner-Kreis</td>\n",
       "      <td>Hessen</td>\n",
       "      <td>99714</td>\n",
       "      <td>102</td>\n",
       "      <td>974.52</td>\n",
       "      <td>6</td>\n",
       "    </tr>\n",
       "    <tr>\n",
       "      <th>113</th>\n",
       "      <td>Nordhausen</td>\n",
       "      <td>Thüringen</td>\n",
       "      <td>81687</td>\n",
       "      <td>114</td>\n",
       "      <td>713.93</td>\n",
       "      <td>6</td>\n",
       "    </tr>\n",
       "    <tr>\n",
       "      <th>114</th>\n",
       "      <td>Unstrut-Hainich-Kreis</td>\n",
       "      <td>Thüringen</td>\n",
       "      <td>96187</td>\n",
       "      <td>107</td>\n",
       "      <td>902.87</td>\n",
       "      <td>6</td>\n",
       "    </tr>\n",
       "    <tr>\n",
       "      <th>115</th>\n",
       "      <td>Eichsfeld</td>\n",
       "      <td>Thüringen</td>\n",
       "      <td>101023</td>\n",
       "      <td>105</td>\n",
       "      <td>966.36</td>\n",
       "      <td>6</td>\n",
       "    </tr>\n",
       "    <tr>\n",
       "      <th>116</th>\n",
       "      <td>Kyffhäuserkreis</td>\n",
       "      <td>Thüringen</td>\n",
       "      <td>72964</td>\n",
       "      <td>70</td>\n",
       "      <td>1037.89</td>\n",
       "      <td>6</td>\n",
       "    </tr>\n",
       "    <tr>\n",
       "      <th>119</th>\n",
       "      <td>Oberspreewald-Lausitz</td>\n",
       "      <td>Brandenburg</td>\n",
       "      <td>107558</td>\n",
       "      <td>88</td>\n",
       "      <td>1223.47</td>\n",
       "      <td>6</td>\n",
       "    </tr>\n",
       "    <tr>\n",
       "      <th>121</th>\n",
       "      <td>Goslar</td>\n",
       "      <td>Niedersachsen</td>\n",
       "      <td>134050</td>\n",
       "      <td>226</td>\n",
       "      <td>594.33</td>\n",
       "      <td>6</td>\n",
       "    </tr>\n",
       "    <tr>\n",
       "      <th>123</th>\n",
       "      <td>Northeim</td>\n",
       "      <td>Niedersachsen</td>\n",
       "      <td>131765</td>\n",
       "      <td>121</td>\n",
       "      <td>1091.49</td>\n",
       "      <td>6</td>\n",
       "    </tr>\n",
       "    <tr>\n",
       "      <th>133</th>\n",
       "      <td>Coesfeld</td>\n",
       "      <td>Nordrhein-Westfalen</td>\n",
       "      <td>221352</td>\n",
       "      <td>199</td>\n",
       "      <td>1112.03</td>\n",
       "      <td>6</td>\n",
       "    </tr>\n",
       "    <tr>\n",
       "      <th>135</th>\n",
       "      <td>Oberbergischer Kreis</td>\n",
       "      <td>Nordrhein-Westfalen</td>\n",
       "      <td>271621</td>\n",
       "      <td>296</td>\n",
       "      <td>918.84</td>\n",
       "      <td>6</td>\n",
       "    </tr>\n",
       "    <tr>\n",
       "      <th>143</th>\n",
       "      <td>Viersen</td>\n",
       "      <td>Nordrhein-Westfalen</td>\n",
       "      <td>298761</td>\n",
       "      <td>530</td>\n",
       "      <td>563.27</td>\n",
       "      <td>6</td>\n",
       "    </tr>\n",
       "    <tr>\n",
       "      <th>144</th>\n",
       "      <td>Höxter</td>\n",
       "      <td>Nordrhein-Westfalen</td>\n",
       "      <td>139994</td>\n",
       "      <td>117</td>\n",
       "      <td>1201.42</td>\n",
       "      <td>6</td>\n",
       "    </tr>\n",
       "    <tr>\n",
       "      <th>168</th>\n",
       "      <td>Saale-Holzland-Kreis</td>\n",
       "      <td>Thüringen</td>\n",
       "      <td>82513</td>\n",
       "      <td>101</td>\n",
       "      <td>815.26</td>\n",
       "      <td>6</td>\n",
       "    </tr>\n",
       "    <tr>\n",
       "      <th>169</th>\n",
       "      <td>Altenburger Land</td>\n",
       "      <td>Thüringen</td>\n",
       "      <td>87807</td>\n",
       "      <td>154</td>\n",
       "      <td>569.39</td>\n",
       "      <td>6</td>\n",
       "    </tr>\n",
       "    <tr>\n",
       "      <th>170</th>\n",
       "      <td>Sömmerda</td>\n",
       "      <td>Thüringen</td>\n",
       "      <td>68717</td>\n",
       "      <td>85</td>\n",
       "      <td>806.88</td>\n",
       "      <td>6</td>\n",
       "    </tr>\n",
       "  </tbody>\n",
       "</table>\n",
       "</div>"
      ],
      "text/plain": [
       "                            district                state  population  \\\n",
       "0                         St. Wendel             Saarland       86170   \n",
       "1                        Neunkirchen             Saarland      130847   \n",
       "2                    Saarpfalz-Kreis             Saarland      140960   \n",
       "3                          Saarlouis             Saarland      193661   \n",
       "5                      Merzig-Wadern             Saarland      103426   \n",
       "12                              Plön   Schleswig-Holstein      129687   \n",
       "20                         Steinburg   Schleswig-Holstein      130843   \n",
       "21                          Stormarn   Schleswig-Holstein      245406   \n",
       "26                          Wittmund        Niedersachsen       57455   \n",
       "29                         Friesland        Niedersachsen       98971   \n",
       "31                              Leer        Niedersachsen      172421   \n",
       "32                         Osterholz        Niedersachsen      115054   \n",
       "34                       Wesermarsch        Niedersachsen       88430   \n",
       "35                      Emden, Stadt        Niedersachsen       49523   \n",
       "46                  Nienburg (Weser)        Niedersachsen      121773   \n",
       "47                         Oldenburg        Niedersachsen      132091   \n",
       "49                            Verden        Niedersachsen      138507   \n",
       "51                 Lüchow-Dannenberg        Niedersachsen       48472   \n",
       "52                         Ammerland        Niedersachsen      126475   \n",
       "53                            Uelzen        Niedersachsen       92894   \n",
       "59                            Vechta        Niedersachsen      144805   \n",
       "70   Brandenburg an der Havel, Stadt          Brandenburg       72461   \n",
       "71           Frankfurt (Oder), Stadt          Brandenburg       56679   \n",
       "73                         Helmstedt        Niedersachsen       91379   \n",
       "74                      Wolfenbüttel        Niedersachsen      119224   \n",
       "75                        Schaumburg        Niedersachsen      158108   \n",
       "76                    Hameln-Pyrmont        Niedersachsen      148963   \n",
       "82                 Salzgitter, Stadt        Niedersachsen      103694   \n",
       "83                             Peine        Niedersachsen      136960   \n",
       "84               Grafschaft Bentheim        Niedersachsen      138722   \n",
       "91              Dessau-Roßlau, Stadt       Sachsen-Anhalt       78731   \n",
       "96                           Herford  Nordrhein-Westfalen      250635   \n",
       "100                       Holzminden        Niedersachsen       69862   \n",
       "102                              Hof               Bayern      139032   \n",
       "104                           Kassel               Hessen      237268   \n",
       "105              Werra-Meißner-Kreis               Hessen       99714   \n",
       "113                       Nordhausen            Thüringen       81687   \n",
       "114            Unstrut-Hainich-Kreis            Thüringen       96187   \n",
       "115                        Eichsfeld            Thüringen      101023   \n",
       "116                  Kyffhäuserkreis            Thüringen       72964   \n",
       "119            Oberspreewald-Lausitz          Brandenburg      107558   \n",
       "121                           Goslar        Niedersachsen      134050   \n",
       "123                         Northeim        Niedersachsen      131765   \n",
       "133                         Coesfeld  Nordrhein-Westfalen      221352   \n",
       "135             Oberbergischer Kreis  Nordrhein-Westfalen      271621   \n",
       "143                          Viersen  Nordrhein-Westfalen      298761   \n",
       "144                           Höxter  Nordrhein-Westfalen      139994   \n",
       "168             Saale-Holzland-Kreis            Thüringen       82513   \n",
       "169                 Altenburger Land            Thüringen       87807   \n",
       "170                         Sömmerda            Thüringen       68717   \n",
       "\n",
       "     pop_density  area_size  label  \n",
       "0            181     476.48      6  \n",
       "1            524     249.80      6  \n",
       "2            337     418.28      6  \n",
       "3            422     459.35      6  \n",
       "5            186     555.63      6  \n",
       "12           120    1083.57      6  \n",
       "20           124    1055.70      6  \n",
       "21           320     766.24      6  \n",
       "26            87     656.84      6  \n",
       "29           162     609.53      6  \n",
       "31           159    1085.40      6  \n",
       "32           176     652.67      6  \n",
       "34           107     824.79      6  \n",
       "35           441     112.34      6  \n",
       "46            87    1400.81      6  \n",
       "47           124    1064.83      6  \n",
       "49           175     789.33      6  \n",
       "51            43    1123.31      6  \n",
       "52           173     730.65      6  \n",
       "53            64    1462.60      6  \n",
       "59           178     814.22      6  \n",
       "70           315     229.72      6  \n",
       "71           383     147.85      6  \n",
       "73           148     616.56      6  \n",
       "74           168     711.39      6  \n",
       "75           234     675.67      6  \n",
       "76           187     797.53      6  \n",
       "82           462     224.49      6  \n",
       "83           255     536.50      6  \n",
       "84           141     981.79      6  \n",
       "91           321     245.00      6  \n",
       "96           556     450.39      6  \n",
       "100          121     576.84      6  \n",
       "102          152     912.95      6  \n",
       "104          214    1110.83      6  \n",
       "105          102     974.52      6  \n",
       "113          114     713.93      6  \n",
       "114          107     902.87      6  \n",
       "115          105     966.36      6  \n",
       "116           70    1037.89      6  \n",
       "119           88    1223.47      6  \n",
       "121          226     594.33      6  \n",
       "123          121    1091.49      6  \n",
       "133          199    1112.03      6  \n",
       "135          296     918.84      6  \n",
       "143          530     563.27      6  \n",
       "144          117    1201.42      6  \n",
       "168          101     815.26      6  \n",
       "169          154     569.39      6  \n",
       "170           85     806.88      6  "
      ]
     },
     "execution_count": 99,
     "metadata": {},
     "output_type": "execute_result"
    }
   ],
   "source": [
    "df_keep_state[df_keep_state[ \"label\"]==6].head(50)"
   ]
  },
  {
   "cell_type": "code",
   "execution_count": null,
   "metadata": {},
   "outputs": [],
   "source": []
  }
 ],
 "metadata": {
  "kernelspec": {
   "display_name": "base",
   "language": "python",
   "name": "python3"
  },
  "language_info": {
   "codemirror_mode": {
    "name": "ipython",
    "version": 3
   },
   "file_extension": ".py",
   "mimetype": "text/x-python",
   "name": "python",
   "nbconvert_exporter": "python",
   "pygments_lexer": "ipython3",
   "version": "3.11.7"
  }
 },
 "nbformat": 4,
 "nbformat_minor": 2
}
